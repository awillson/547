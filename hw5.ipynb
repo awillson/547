{
 "cells": [
  {
   "cell_type": "markdown",
   "metadata": {},
   "source": [
    "# HW5 due 11:30a Mon Nov 14"
   ]
  },
  {
   "cell_type": "markdown",
   "metadata": {},
   "source": [
    "# 1. Project control system\n",
    "\n",
    "**This problem is repeated from HW3 to provide the opportunity for you to revise your project system to address any issues that arise when you try to solve the problems below.  If you do not wish to make any changes, simply include a statement to that effect in your submission for this HW.**\n",
    "\n",
    "Select a control system for your Project; refer to Canvas/Pages/Project for ideas and requirements.\n",
    "\n",
    "a. What is the system state?  Indicate any parameters (i.e. \"states\" that don't change in time).  ($\\ge 3$ dimensions)\n",
    "\n",
    "b. What are the inputs to the system?  Explain the inputs in physical terms, i.e. what physical device or mechanism actuates the input. ($\\ge 2$ inputs; create one if needed)\n",
    "\n",
    "c. What are the outputs from the system?  Explain the outputs in physical terms, i.e. what physical device or mechanism measures the output.  ($\\ge 2$ outputs; create one if needed)\n",
    "\n",
    "d. Write an ODE control system model for your system's dynamics in the form $\\dot{x} = f(x,u),\\ y = h(x,u)$. Be sure to specify the domain and codomain of $f,h$.\n",
    "\n",
    "e. Is the control system linear or nonlinear?  Show algebraically or graphically the source of nonlinarity. (must be nonlinear)\n",
    "\n",
    "f. What disturbances could affect the system's dynamics?  Specify what elements of $f$ and/or $h$ the disturbance would affect. ($\\ge 1$ disturbance that affects $f$, $\\ge 1$ disturbance that affects $h$)\n",
    "\n",
    "g. Why is your Project system synergistic with your education, research, and/or professional interests?  \n",
    "\n",
    "h. Add your Project system title and a link to $\\ge 1$ relevant paper / preprint / technical report in Canvas/Collaboration/Projects; upload the paper .pdf with your hw2 Assigment on Canvas."
   ]
  },
  {
   "cell_type": "markdown",
   "metadata": {},
   "source": [
    "# 2. Asteroids equilibria, linearization, and simulation\n",
    "\n",
    "a. Determine an equilibrium for the asteroids ship control system, that is, find $(x_0,u_0)\\in\\mathbb{R}^n\\times\\mathbb{R}^m$ such that $f(x_0,u_0) = 0$ using $f$ from the solution to HW1.  (There may be more than one equilibrium; pick one of them.)\n",
    "\n",
    "b. Explain the physical interpretation of the equilibrium behavior.\n",
    "\n",
    "c. Linearize the asteroids ship control system at the equilibrium from (a.), that is, compute the matrices $Df(x_0,u_0)$ and $Dh(x_0,u_0)$.  (It's preferable if you can do this symbolically; if you are unable to, explain why and compute it numerically.)\n",
    "\n",
    "d. Simulate the asteroids ship control system both at and nearby the equilibrium from (a.) for an \"interesting\" amount of time, and plot $\\ge 2$ \"interesting\" state variables or outputs from these trajectories.  \n",
    "\n",
    "e. Discuss the physical interpretation of the behavior observed in the plots.  \n",
    "\n",
    "f. Discuss the qualitative behavior of the trajectories you simulated; are the trajectories converging, diverging, or doing something else that's interesting?"
   ]
  },
  {
   "cell_type": "markdown",
   "metadata": {},
   "source": [
    "# 3. Project equilibria, linearization, and simulation\n",
    "\n",
    "a. Determine an \"interesting\" equilibrium for your project control system, that is, find $(x_0,u_0)\\in\\mathbb{R}^n\\times\\mathbb{R}^m$ such that $f(x_0,u_0) = 0$.  (There may be more than one equilibrium; pick one of them that is \"interesting\", i.e., physically meaningful and a useful target for control.)\n",
    "\n",
    "b. Explain why the equilibrum from (a.) is \"interesting\" in the context of your application domain.\n",
    "\n",
    "c. Linearize your project control system at the equilibrium from (a.), that is, compute the matrices $Df(x_0,u_0)$ and $Dh(x_0,u_0)$.  (It's preferable if you can do this symbolically; if you are unable to, explain why and compute it numerically.)\n",
    "\n",
    "d. Simulate your project control system both at and nearby the equilibrium from (a.) for an \"interesting\" amount of time, and plot $\\ge 2$ \"interesting\" state variables or outputs from these trajectories.  \n",
    "\n",
    "e. Discuss the physical interpretation of the behavior observed in the plots. \n",
    "\n",
    "f. Discuss the qualitative behavior of the trajectories you simulated; are the trajectories converging, diverging, or doing something else that's interesting?"
   ]
  }
 ],
 "metadata": {
  "kernelspec": {
   "display_name": "Python 2",
   "language": "python",
   "name": "python2"
  },
  "language_info": {
   "codemirror_mode": {
    "name": "ipython",
    "version": 2
   },
   "file_extension": ".py",
   "mimetype": "text/x-python",
   "name": "python",
   "nbconvert_exporter": "python",
   "pygments_lexer": "ipython2",
   "version": "2.7.12"
  }
 },
 "nbformat": 4,
 "nbformat_minor": 0
}
