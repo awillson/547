{
 "cells": [
  {
   "cell_type": "markdown",
   "metadata": {},
   "source": [
    "# HW01 due 11:30a Mon Oct 3"
   ]
  },
  {
   "cell_type": "markdown",
   "metadata": {},
   "source": [
    "# 1. Mathematical notation and reasoning\n",
    "\n",
    "Given a set $X$, let $P(X) = \\{S : S\\subset X\\}$ denote the *power set* (i.e. \"the set of all subsets\") of $X$.\n",
    "\n",
    "a. If $|X| < \\infty$, compute $|P(X)|$ (i.e. the number of elements in the power set of $X$).\n",
    "\n",
    "Now let $A$, $B$ be arbitrary sets.\n",
    "\n",
    "b. Prove that there exists an injection $f:A\\rightarrow B$ if and only if there exists a surjection $g:B\\rightarrow A$ (therefore the two definitions we proposed for $|A| \\le |B|$ are equivalent).\n",
    "\n",
    "Now let $f:A\\rightarrow B$ be a function (not necessarily injective).  Recall that the **graph** of $f$ is the set defined by\n",
    "$$\\operatorname{graph}(f) = \\left\\{ (a,b)\\in A\\times B : b = f(a) \\right\\}.$$\n",
    "\n",
    "c. If you are given a subset $S\\subset A\\times B$, how can you tell if it is the graph of some function?  (That is, what are the set theoretic properties of a graph?)\n",
    "\n",
    "d. Let $h:B\\rightarrow C$ be a second function and consider the composition $h\\circ f : A\\rightarrow C$.  With $A = B = C = [0,1]\\subset\\mathbb{R}$, visualize $A\\times B\\times C\\subset\\mathbb{R}^3$ as the unit cube in 3--space.  Show how the graphs of $f$, $h$, and $h \\circ f$ can be represented on the face of the cube, and annotate representative $a\\in A$, $b = f(a) \\in B$, $c = h(b) = h\\circ f(a)\\in C$."
   ]
  },
  {
   "cell_type": "markdown",
   "metadata": {},
   "source": [
    "# 2. Asteroids control system\n",
    "\n",
    "Consider the classic arcade game ''Asteroids'' (if you're unfamiliar with this game, watch the video in Canvas/Files/watch/asteroids.mp4 or try your hand at the game at http://www.freeasteroids.org/)."
   ]
  },
  {
   "cell_type": "markdown",
   "metadata": {},
   "source": [
    "a. What is the system state?  That is, what information / data must be available at each instant in time to predict the future motion of the spaceship, asteroids, and missiles?\n",
    "\n",
    "b. What are the inputs to the system from the player's perspective?\n",
    "\n",
    "c. What are the outputs from the system from the player's perspective?\n",
    "\n",
    "d. Write a DE control system model for the spaceship's dynamics in the form $\\dot{x} = f(x,u),\\ y = h(x)$. (specify the domain and range of the functions $f,h$)\n",
    "\n",
    "e. Is the control system linear or nonlinear?\n",
    "\n",
    "f. Imagine this as a model of a real spacecraft, and brainstorm some (at least 2) disturbances that could affect the system's dynamics; how would these disturbances affect $f$ and/or $h$ mathematically?"
   ]
  }
 ],
 "metadata": {
  "kernelspec": {
   "display_name": "Python 2",
   "language": "python",
   "name": "python2"
  },
  "language_info": {
   "codemirror_mode": {
    "name": "ipython",
    "version": 2
   },
   "file_extension": ".py",
   "mimetype": "text/x-python",
   "name": "python",
   "nbconvert_exporter": "python",
   "pygments_lexer": "ipython2",
   "version": "2.7.12"
  }
 },
 "nbformat": 4,
 "nbformat_minor": 0
}
