{
 "cells": [
  {
   "cell_type": "markdown",
   "metadata": {},
   "source": [
    "# HW0 due 11:30a Mon Oct 3\n",
    "\n",
    "This assignment will be graded on participation; so long as you make an effort on each problem and upload a legible pdf to Canvas, you will receive full credit."
   ]
  },
  {
   "cell_type": "markdown",
   "metadata": {},
   "source": [
    "# 1. Welcome to Linear Systems Theory!\n",
    "\n",
    "a. What were you doing before you enrolled in your current program?\n",
    "\n",
    "b. What do you hope to do after you graduate?\n",
    "\n",
    "c. Why did you enroll in this course?\n",
    "\n",
    "d. What do you hope to learn in this course?\n",
    "\n",
    "e. Log in to Canvas and edit your Profile; add a headshot photo, and specify the name we should use to refer to you.  (see my example at https://canvas.uw.edu/about/3510568)"
   ]
  },
  {
   "cell_type": "markdown",
   "metadata": {},
   "source": [
    "# 2. Self-assessment\n",
    "\n",
    "The following questions are intended to help you and the instructors assess your background knowledge;  **you do not already need to know how to answer these questions to s if you are not familiar with what the question is asking, just say so.  If you need to consult textbooks, websites, or other resources to answer the question, note the resource.\n",
    "\n",
    "a. If a function is one-to-one (injective) and onto (surjective), what can you conclude about its invertibility?\n",
    "\n",
    "b. If $f : \\mathbb{R} \\rightarrow \\mathbb{R}$, what is the geometric interpretation of the derivative of $f$?  Can you give a geometric interpretation for the derivative of $f : \\mathbb{R}^n \\rightarrow \\mathbb{R}$?  What about $f : \\mathbb{R}^n \\rightarrow \\mathbb{R}^m$?\n",
    "\n",
    "b. If the determinant of a matrix is zero, what can you conclude about its nullspace?\n",
    "\n",
    "c. What do trajectories of $\\dot{x} = \\left[\\begin{array}{c} 0 & -1 \\\\ 1 & 0 \\end{array}\\right]$ look like?\n",
    "\n",
    "d. Suppose the system in (c.) was obtained by linearizing $\\dot{x} = f(x)$ at an equilibrium $f(x_0) = 0$; what can you conclude about the stability of $x_0$?"
   ]
  }
 ],
 "metadata": {
  "kernelspec": {
   "display_name": "Python 2",
   "language": "python",
   "name": "python2"
  },
  "language_info": {
   "codemirror_mode": {
    "name": "ipython",
    "version": 2
   },
   "file_extension": ".py",
   "mimetype": "text/x-python",
   "name": "python",
   "nbconvert_exporter": "python",
   "pygments_lexer": "ipython2",
   "version": "2.7.12"
  }
 },
 "nbformat": 4,
 "nbformat_minor": 0
}
