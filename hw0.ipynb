{
 "cells": [
  {
   "cell_type": "markdown",
   "metadata": {},
   "source": [
    "# HW0 due 11:30a Mon Oct 3"
   ]
  },
  {
   "cell_type": "markdown",
   "metadata": {},
   "source": [
    "# 1. Welcome to Linear Systems Theory\n",
    "\n",
    "a. What were you doing before you enrolled in your current program?\n",
    "\n",
    "b. What do you hope to do after you graduate?\n",
    "\n",
    "c. Why did you enroll in this course?\n",
    "\n",
    "d. Please log in to Canvas and edit your Profile; be sure to add a headshot photo, and specify the name we should use to refer to you.  (see my example at https://canvas.uw.edu/about/3510568)"
   ]
  },
  {
   "cell_type": "markdown",
   "metadata": {},
   "source": [
    "# 2. Self-assessment\n",
    "\n",
    "The following questions are intended to help you and the instructors assess your background knowledge; if you are not familiar with what the question is asking, just say so.  If you need to consult textbooks, websites, or other resources to answer the question, make a note.\n",
    "\n",
    "a. If a function is one-to-one (injective) and onto (surjective), what can you conclude about its invertibility?\n",
    "\n",
    "b. If the determinant of a matrix is zero, what can you conclude about its invertibility?\n",
    "\n",
    "c. Given $x(t) = e^{at} x(0)$, express $\\frac{d}{dt} x(t)$ in terms of $e$, $a$, $x$, and $t$.\n",
    "\n",
    "d. If $a = 0$ in (c.), is the system stable?  What if $a < 0$ or $a > 0$?"
   ]
  }
 ],
 "metadata": {
  "kernelspec": {
   "display_name": "Python 2",
   "language": "python",
   "name": "python2"
  },
  "language_info": {
   "codemirror_mode": {
    "name": "ipython",
    "version": 2
   },
   "file_extension": ".py",
   "mimetype": "text/x-python",
   "name": "python",
   "nbconvert_exporter": "python",
   "pygments_lexer": "ipython2",
   "version": "2.7.12"
  }
 },
 "nbformat": 4,
 "nbformat_minor": 0
}
