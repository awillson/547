{
 "cells": [
  {
   "cell_type": "markdown",
   "metadata": {},
   "source": [
    "# HW4 due 11:30a Mon Oct 31"
   ]
  },
  {
   "cell_type": "markdown",
   "metadata": {},
   "source": [
    "# 1. Bases and matrix representations\n",
    "\n",
    "Let $L:V\\rightarrow W$ be a linear function where $\\dim V = n < \\infty$ and $\\dim W = m < \\infty$, and let $r = \\operatorname{rank} L$.\n",
    "\n",
    "a. Find bases for $V$ and $W$ with respect to which the matrix representation of $L$ is:\n",
    "$$\\left[\\begin{array}{cc} I_{r\\times r} & 0_{r\\times (n-r)} \\\\ 0_{(m-r) \\times r} & 0_{(m-r)\\times (n-r)} \\end{array}\\right]$$\n",
    "\n",
    "Let $\\{v_\\ell\\}_{\\ell=1}^n$ be a basis for $V$ for which $\\operatorname{null}(L) = \\operatorname{span}\\{v_\\ell\\}_{r+1}^n$, and set $w_\\ell = L(v_\\ell)$ for each $\\ell\\in\\{1,\\dots,r\\}$.  \n",
    "\n",
    "The collection $\\{w_\\ell\\}_{\\ell=1}^r$ are linearly independent (if this were not the case, it is straightforward to show using an argument we used several times in class that the vectors $\\{v_\\ell\\}_{\\ell=1}^r$ are linearly dependent, which is a contradiction).\n",
    "\n",
    "Furthermore, it is straightforward to show that the collection $\\{w_\\ell\\}_{\\ell=1}^r$ span $\\operatorname{range}(L)$ by construction.\n",
    "\n",
    "Let $\\{w_\\ell\\}_{\\ell=r+1}^m$ be such that $\\{w_\\ell\\}_{\\ell=1}^m$ is a basis for $W$.\n",
    "\n",
    "The matrix representation for $L$ in the basis chosen for $V$ and $W$ is the desired matrix. "
   ]
  },
  {
   "cell_type": "markdown",
   "metadata": {},
   "source": [
    "b. Find a vector space $U$ and a linear function $\\tilde{L}:U\\rightarrow U$ such that, no matter which basis you choose for $U$, the matrix representation of $\\tilde{L}$ does not have the form from (a.).\n",
    "\n",
    "Let $U = \\mathbb{R}$ and $\\tilde{L}:U\\rightarrow U$ be defined $\\forall u\\in U : \\tilde{L}(u) = \\alpha u$, $\\alpha\\not\\in\\{-1,0,1\\}$.  Given any $\\mu \\ne 0$, the matrix representation for $\\tilde{L}$ in the basis $\\{\\mu\\}$ is $\\alpha \\mu^{-1} \\mu = \\alpha$, which does not have the form from (a.)."
   ]
  },
  {
   "cell_type": "markdown",
   "metadata": {},
   "source": [
    "# 2. Eigenvalues, eigenvectors, eigenbases\n",
    "\n",
    "Let $A\\in\\mathbb{R}^{n\\times n}$ be a given matrix.\n",
    "\n",
    "Suppose that, for each $\\ell\\in\\{1,\\dots,k\\}$, there exists $\\lambda_\\ell\\in\\mathbb{C}$ and $v_\\ell\\in\\mathbb{R}^n$ such that $v_\\ell \\ne 0$ and $A v_\\ell = \\lambda_\\ell v_\\ell$ (i.e. $\\lambda_\\ell$ is an eigenvalue for $A$ with eigenvector $v_\\ell$).\n",
    "\n",
    "a. If the eigenvalues $\\{\\lambda_\\ell\\}_{\\ell=1}^k$ are distinct (i.e. $\\lambda_i = \\lambda_j \\iff i = j$), show that the eigenvectors $\\{v_\\ell\\}_{\\ell=1}^k$ are linearly independent.  (*Hint:  use induction.*)\n",
    "\n",
    "We proved the base case in class, that two eigenvectors associated with distinct eigenvalues are linearly independent.\n",
    "\n",
    "Now suppose for $m\\in\\mathbb{N}$ such that $1 \\le k < m$ that $\\{v_\\ell\\}_{\\ell=1}^m$ are linearly independent but $\\{v_\\ell\\}_{\\ell=1}^{m+1}$ is not linearly independent so that $\\exists \\alpha\\in\\mathbb{C}^{m+1}$, $\\alpha \\ne 0$, such that $\\sum_{\\ell=1}^{m+1}\\alpha_\\ell v_\\ell = 0$.\n",
    "\n",
    "Then $L\\left(\\sum_{\\ell=1}^{m+1}\\alpha_\\ell v_\\ell\\right) = \\sum_{\\ell=1}^{m+1}\\alpha_\\ell \\lambda_\\ell v_\\ell = 0$, but also $\\sum_{\\ell=1}^{m+1}\\alpha_\\ell \\lambda_{m+1} v_\\ell = 0$.  \n",
    "\n",
    "Subtracting these two equations, we conclude $\\sum_{\\ell=1}^{m+1}\\alpha_\\ell (\\lambda_{m+1} - \\lambda_\\ell) v_\\ell$.  But since $\\lambda_{m+1} \\ne \\lambda_\\ell$ for any $\\ell\\in\\{1,\\dots,m\\}$, this contradicts linear independence of $\\{v_\\ell\\}_{\\ell=1}^k$.\n",
    "\n",
    "We conclude that $\\{v_\\ell\\}_{\\ell=1}^{m+1}$ is linearly independent, so by induction we conclude that $\\{v_\\ell\\}_{\\ell=1}^{k}$ is linearly independent."
   ]
  },
  {
   "cell_type": "markdown",
   "metadata": {},
   "source": [
    "Now let $L:U\\rightarrow U$ be linear and $\\dim U = n$.\n",
    "\n",
    "Suppose that $\\lambda\\in\\mathbb{C}$ and $W = \\{w_\\ell\\}_{\\ell=1}^n$ is a basis for $U$ such that $L w_1 = \\lambda w_1$ and $L w_k = \\lambda w_k + w_{k-1}$ for all $k\\in\\{2,\\dots,n\\}$.\n",
    "\n",
    "b. Obtain the matrix representation of $L$ with respect to the basis $W$.\n",
    "\n",
    "$$\\left[\\begin{array}{cc} \\lambda & 1 & 0 & 0 & \\cdots & 0 & 0 \\\\ 0 & \\lambda & 1 & 0 & \\cdots & 0 & 0 \\\\ \\vdots & \\vdots & \\vdots & \\vdots & \\ddots & \\vdots & \\vdots \\\\ \\cdots & \\cdots & \\cdots & \\cdots & \\cdots & \\lambda & 1 \\\\ \\cdots & \\cdots & \\cdots & \\cdots & \\cdots & 0 & \\lambda \\end{array}\\right]$$"
   ]
  },
  {
   "cell_type": "markdown",
   "metadata": {},
   "source": [
    "# 3. Spectral mapping theorem\n",
    "\n",
    "Let $\\operatorname{spec} A = \\{\\lambda_1,\\dots,\\lambda_n\\}$ denote the spectrum of $A\\in\\mathbb{C}^{n\\times n}$ (i.e. the set of eigenvalues of $A$).\n",
    "\n",
    "**Theorem**  If $f:\\mathbb{C}\\rightarrow\\mathbb{C}$ is analytic, then $\\operatorname{spec} f(A) = \\{f(\\lambda_1),\\dots,f(\\lambda_n)\\}$.\n",
    "\n",
    "a.  Prove or provide a counterexample: if $\\lambda_1 \\ne \\lambda_2$, then $f(\\lambda_1) \\ne f(\\lambda_2)$.\n",
    "\n",
    "If $f$ is not injective, then it can easily happen that $f(\\lambda_1) = f(\\lambda_2)$.  Consider, for instance, the zero function:  $\\forall z\\in\\mathbb{C} : f(z) = 0$."
   ]
  },
  {
   "cell_type": "markdown",
   "metadata": {},
   "source": [
    "b. Prove or provide a counterexample:  if $A$ is invertible, then $f(A)$ is invertible.\n",
    "\n",
    "If $f$ sends an eigenvalue of $A$ to zero, then $f(A)$ will not be invertible.  Consider, for instance, the zero function:  $\\forall z\\in\\mathbb{C} : f(z) = 0$."
   ]
  }
 ],
 "metadata": {
  "kernelspec": {
   "display_name": "Python 2",
   "language": "python",
   "name": "python2"
  },
  "language_info": {
   "codemirror_mode": {
    "name": "ipython",
    "version": 2
   },
   "file_extension": ".py",
   "mimetype": "text/x-python",
   "name": "python",
   "nbconvert_exporter": "python",
   "pygments_lexer": "ipython2",
   "version": "2.7.12"
  }
 },
 "nbformat": 4,
 "nbformat_minor": 0
}
