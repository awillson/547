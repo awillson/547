{
 "cells": [
  {
   "cell_type": "markdown",
   "metadata": {},
   "source": [
    "# HW3 due 11:30a Mon Oct 24"
   ]
  },
  {
   "cell_type": "markdown",
   "metadata": {},
   "source": [
    "# 1. Inner product on $\\mathbb{C}^n$\n",
    "\n",
    "Given $x,y\\in\\mathbb{C}^n$, define the inner product $\\langle x, y \\rangle$ by the formula\n",
    "$$ \\langle x, y \\rangle = \\sum_{\\ell=1}^n \\overline{x}_\\ell \\cdot y_\\ell $$\n",
    "where $\\overline{x}_\\ell \\cdot y_\\ell$ denotes the complex scalar multiplication between the complex conjugate $\\overline{x}_\\ell$ of $x_\\ell$ and the complex number $y_\\ell$.\n",
    "\n",
    "a. $\\langle \\cdot,\\cdot \\rangle$ is a function that takes two complex $n$-vectors as arguments; what is its codomain?\n",
    "\n",
    "b. Is $\\langle \\cdot,\\cdot \\rangle$ linear in its second argument?  In other words, does the following equality hold?\n",
    "$$\\forall x,y,z\\in\\mathbb{C}^n, \\zeta\\in\\mathbb{C} : \\langle x,y + \\zeta z \\rangle = \\langle x,y \\rangle + \\alpha \\langle x,z \\rangle$$\n",
    "\n",
    "c. Is $\\langle \\cdot,\\cdot \\rangle$ symmetric?  In other words, does the following equality hold?\n",
    "$$\\forall x,y\\in\\mathbb{C}^n : \\langle x,y \\rangle = \\langle y,x \\rangle$$\n",
    "If not, how is $\\langle x,y \\rangle$ related to $\\langle y,x \\rangle$?\n",
    "\n",
    "d. Is $\\langle \\cdot,\\cdot \\rangle$ positive definite?  In other words, is the following true?\n",
    "$$\\forall x\\in\\mathbb{C}^n : \\langle x,x \\rangle \\ge 0,\\ \\langle x,x \\rangle = 0 \\iff x = 0$$"
   ]
  },
  {
   "cell_type": "markdown",
   "metadata": {},
   "source": [
    "# 2. Linear functions\n",
    "\n",
    "Let $(m\\times n)$ denote the set\n",
    "$$(m\\times n) = \\left\\{(i,j) : i\\in\\left\\{1,\\dots,m\\right\\},\\ j\\in\\left\\{1,\\dots,n\\right\\}\\right\\}.$$\n",
    "\n",
    "a. Show that the set $\\mathcal{A} = \\left\\{ A : (m\\times n) \\rightarrow \\mathbb{F} \\right\\}$ of matrices with $m$ rows and $n$ columns is a vector space over the field $\\mathbb{F}$.  (You need to define vector addition $+:\\mathcal{A}\\times\\mathcal{A}\\rightarrow\\mathcal{A}$ and scalar multiplication $\\cdot:\\mathbb{F}\\times\\mathcal{A}\\rightarrow\\mathcal{A}$ and show that they satisfy the commutative, associative, distributive, and zero element properties that define a vector space.)\n",
    "\n",
    "Let $V,W$ be vector spaces over the same field $\\mathbb{F}$.\n",
    "\n",
    "a. Show that the set $\\mathcal{L} = \\left\\{ L : V \\rightarrow W \\mid \\text{$L$ is linear} \\right\\}$ of linear maps from $V$ to $W$ is a vector space over the field $\\mathbb{F}$\n",
    "(You need to define vector addition $+:\\mathcal{L}\\times\\mathcal{L}\\rightarrow\\mathcal{L}$ and scalar multiplication $\\cdot:\\mathbb{F}\\times\\mathcal{L}\\rightarrow\\mathcal{L}$ and show that they satisfy the commutative, associative, distributive, and zero element properties that define a vector space.)"
   ]
  },
  {
   "cell_type": "markdown",
   "metadata": {},
   "source": [
    "# 3. Project control system\n",
    "\n",
    "**This problem is repeated from HW2 to provide the opportunity for you to revise your project system to address any issues that arose during the self-assessment or feedback from the TAs.  If you already addressed each point below in your HW2 submission and dot wish to make any changes, simply include a statement to that effect in your submission for HW3.**\n",
    "\n",
    "Select a control system for your Project; refer to Canvas/Pages/Project for ideas and requirements.\n",
    "\n",
    "a. What is the system state?  Indicate any parameters (i.e. \"states\" that don't change in time).  ($\\ge 3$ dimensions)\n",
    "\n",
    "b. What are the inputs to the system?  Explain the inputs in physical terms, i.e. what physical device or mechanism actuates the input. ($\\ge 2$ inputs; create one if needed)\n",
    "\n",
    "c. What are the outputs from the system?  Explain the outputs in physical terms, i.e. what physical device or mechanism measures the output.  ($\\ge 2$ outputs; create one if needed)\n",
    "\n",
    "d. Write an ODE control system model for your system's dynamics in the form $\\dot{x} = f(x,u),\\ y = h(x,u)$. Be sure to specify the domain and codomain of $f,h$.\n",
    "\n",
    "e. Is the control system linear or nonlinear?  Show algebraically or graphically the source of nonlinarity. (must be nonlinear)\n",
    "\n",
    "f. What disturbances could affect the system's dynamics?  Specify what elements of $f$ and/or $h$ the disturbance would affect. ($\\ge 1$ disturbance that affects $f$, $\\ge 1$ disturbance that affects $h$)\n",
    "\n",
    "g. Why is your Project system synergistic with your education, research, and/or professional interests?  \n",
    "\n",
    "h. Add your Project system title and a link to $\\ge 1$ relevant paper / preprint / technical report in Canvas/Collaboration/Projects; upload the paper .pdf with your hw2 Assigment on Canvas."
   ]
  }
 ],
 "metadata": {
  "kernelspec": {
   "display_name": "Python 2",
   "language": "python",
   "name": "python2"
  },
  "language_info": {
   "codemirror_mode": {
    "name": "ipython",
    "version": 2
   },
   "file_extension": ".py",
   "mimetype": "text/x-python",
   "name": "python",
   "nbconvert_exporter": "python",
   "pygments_lexer": "ipython2",
   "version": "2.7.12"
  }
 },
 "nbformat": 4,
 "nbformat_minor": 0
}
