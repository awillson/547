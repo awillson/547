{
 "cells": [
  {
   "cell_type": "code",
   "execution_count": 1,
   "metadata": {
    "collapsed": false
   },
   "outputs": [
    {
     "name": "stdout",
     "output_type": "stream",
     "text": [
      "Automatic pdb calling has been turned ON\n"
     ]
    }
   ],
   "source": [
    "%matplotlib inline\n",
    "%pdb on\n",
    "%run _547"
   ]
  },
  {
   "cell_type": "markdown",
   "metadata": {},
   "source": [
    "# control system model\n",
    "Consider the simplified quadrotor model\n",
    "$$m\\ddot{h} = u_1\\sin\\theta,$$\n",
    "$$m\\ddot{v} = -mg + u_1\\cos\\theta,$$\n",
    "$$I\\ddot{\\theta} = u_2$$\n",
    "where ($h$, $v$) denote the quadrotor (horizontal, vertical) position and $\\theta$ denotes the quadrotor's rotation, ($m$, $I$) denote quadrotor (mass, inertia), $g$ is acceleration due to gravity, and ($u_1$, $u_2$) denote the net (thrust, torque) applied by the spinning rotors.\n",
    "\n",
    "If we measure or observe positions ($h$, $v$), e.g. with GPS, then the control system model is\n",
    "$$\\frac{d}{dt}\\left[\\begin{array}{c} q \\\\ \\dot{q} \\end{array}\\right] = \\left[\\begin{array}{c} \\dot{q} \\\\ F((q,\\dot{q}),u) \\end{array}\\right] = f((q,\\dot{q}),u),\\ y = h(q,\\dot{q})$$\n",
    "where $q = (h,v,\\theta)\\in\\mathbb{R}^3$, $u = (u_1,u_2)\\in\\mathbb{R}^2$, $F : \\mathbb{R}^3 \\times \\mathbb{R}^2 \\rightarrow \\mathbb{R}^3$ is defined by \n",
    "$$F((q,\\dot{q}),u) = \\ddot{q} = \\left[\\begin{array}{c} \\frac{u_1}{m}\\sin\\theta \\\\ -g + \\frac{u_1}{m}\\cos\\theta \\\\ \\frac{u_2}{I}\\end{array}\\right],$$ \n",
    "and $h : \\mathbb{R}^3 \\rightarrow \\mathbb{R}^2$ is defined by \n",
    "$$h(q,\\dot{q}) = (h,v).$$\n",
    "\n",
    "    [1]: http://dx.doi.org/10.1109/ROBOT.2010.5509452"
   ]
  },
  {
   "cell_type": "markdown",
   "metadata": {},
   "source": [
    "# Simulation\n",
    "To simulate the pendulum, we first implement Python versions of the ODE control system model; it'll be computationally expedient if both $f$ and $h$ accept $t$, $x$, and $u$ as arguments even though mathematically they may not depend on all three:"
   ]
  },
  {
   "cell_type": "code",
   "execution_count": 36,
   "metadata": {
    "collapsed": false
   },
   "outputs": [],
   "source": [
    "g,m,I = 9.81,1.,1. # m/sec^2, kg, kg m^2\n",
    "\n",
    "def f(t,x,u):\n",
    "    q,dq = x[:3],x[3:] # positions, velocities\n",
    "    h,v,theta = q # horiz., vert., rotation\n",
    "    u1,u2 = u # thrust, torque\n",
    "    return np.hstack([dq,(u1/m)*np.sin(theta),\n",
    "                        -g + (u1/m)*np.cos(theta),\n",
    "                        u2/I])\n",
    "\n",
    "def h(t,x,u):\n",
    "    q,dq = x[:3],x[3:] # positions, velocities\n",
    "    h,v,theta = q # horiz., vert., rotation\n",
    "    return np.array([h,v]) # horizontal, vertical position"
   ]
  },
  {
   "cell_type": "markdown",
   "metadata": {},
   "source": [
    "Note that $q_0 = 0$, $\\dot{q}_0 = 0$ (i.e. zero position and zero velocity) is an equilibrium when input $u = (mg,0)$ (i.e. zero torque and thrust $mg$) is applied:"
   ]
  },
  {
   "cell_type": "code",
   "execution_count": 37,
   "metadata": {
    "collapsed": false
   },
   "outputs": [
    {
     "name": "stdout",
     "output_type": "stream",
     "text": [
      "x0 = [ 0.  0.  0.  0.  0.  0.] \n",
      "f(x0) = [ 0.  0.  0.  0.  0.  0.]\n"
     ]
    }
   ],
   "source": [
    "q0 = np.array([0.,0.,0.])\n",
    "dq0 = np.array([0.,0.,0.])\n",
    "x0 = np.hstack((q0,dq0))\n",
    "u0 = np.array([m*g,0.])\n",
    "print 'x0 =',x0,'\\nf(x0) =',f(0.,x0,u0)"
   ]
  },
  {
   "cell_type": "markdown",
   "metadata": {},
   "source": [
    "Let's simulate the result of applying a sinusoidal thrust, and plot/animate the result:"
   ]
  },
  {
   "cell_type": "code",
   "execution_count": 41,
   "metadata": {
    "collapsed": false
   },
   "outputs": [
    {
     "data": {
      "text/plain": [
       "<matplotlib.text.Text at 0x108d17f50>"
      ]
     },
     "execution_count": 41,
     "metadata": {},
     "output_type": "execute_result"
    },
    {
     "data": {
      "image/png": "[encoded data removed]",
      "text/plain": [
       "<matplotlib.figure.Figure at 0x108a16b10>"
      ]
     },
     "metadata": {},
     "output_type": "display_data"
    }
   ],
   "source": [
    "dt = 1e-1 # coarse timestep\n",
    "freq = .5 # one cycle every two seconds\n",
    "t = 1./freq # one period\n",
    "q = [0.,1.,0.] # start 1m up off the ground\n",
    "dq = [0.,0.,0.] # start with zero velocity\n",
    "x = np.hstack((q,dq))\n",
    "\n",
    "# input is a periodic function of time\n",
    "ut = lambda t : np.array([m*g + np.cos(2*np.pi*t*freq),0.])\n",
    "# lambda is a shorthand way to define a function\n",
    "# -- equivalently:\n",
    "def u(t):\n",
    "    return np.array([m*g + np.cos(2*np.pi*t*freq),0.])\n",
    "\n",
    "sim = forward_euler\n",
    "t_,x_ = sim(f,t,x,dt=dt,ut=ut)\n",
    "# sim() returns arrays t_ and x_\n",
    "# x_[j] is the state of the system (i.e. pos. and vel.) at time t_[j]\n",
    "\n",
    "fig = plt.figure();\n",
    "\n",
    "ax = plt.subplot(211)\n",
    "ax.plot(t_,x_[:,:3],'.-')\n",
    "ax.set_xlabel('time (sec)')\n",
    "ax.set_ylabel('position')\n",
    "ax.legend([r'$h$',r'$v$',r'$\\theta$'],ncol=3,loc='right')\n",
    "\n",
    "ax = plt.subplot(212)\n",
    "ax.plot(t_,x_[:,3:],'.-')\n",
    "ax.set_xlabel('time (sec)')\n",
    "ax.set_ylabel('velocity')"
   ]
  },
  {
   "cell_type": "code",
   "execution_count": 42,
   "metadata": {
    "collapsed": true
   },
   "outputs": [],
   "source": [
    "%run _anim"
   ]
  },
  {
   "cell_type": "code",
   "execution_count": 50,
   "metadata": {
    "collapsed": false
   },
   "outputs": [
    {
     "data": {
      "text/html": [
       "<video controls>\n",
       " <source src=\"data:video/x-m4v;base64,AAAAIGZ0eXBpc29tAAACAGlzb21pc28yYXZjMW1wNDEAAAAIZnJlZQAAHGVtZGF0AAACrQYF//+p\n",
       "3EXpvebZSLeWLNgg2SPu73gyNjQgLSBjb3JlIDE0NiByMjU1NSAwYzIxNDgwIC0gSC4yNjQvTVBF\n",
       "Ry00IEFWQyBjb2RlYyAtIENvcHlsZWZ0IDIwMDMtMjAxNSAtIGh0dHA6Ly93d3cudmlkZW9sYW4u\n",
       "b3JnL3gyNjQuaHRtbCAtIG9wdGlvbnM6IGNhYmFjPTEgcmVmPTMgZGVibG9jaz0xOjA6MCBhbmFs\n",
       "eXNlPTB4MzoweDExMyBtZT1oZXggc3VibWU9NyBwc3k9MSBwc3lfcmQ9MS4wMDowLjAwIG1peGVk\n",
       "X3JlZj0xIG1lX3JhbmdlPTE2IGNocm9tYV9tZT0xIHRyZWxsaXM9MSA4eDhkY3Q9MSBjcW09MCBk\n",
       "ZWFkem9uZT0yMSwxMSBmYXN0X3Bza2lwPTEgY2hyb21hX3FwX29mZnNldD00IHRocmVhZHM9NiBs\n",
       "b29rYWhlYWRfdGhyZWFkcz0xIHNsaWNlZF90aHJlYWRzPTAgbnI9MCBkZWNpbWF0ZT0xIGludGVy\n",
       "bGFjZWQ9MCBibHVyYXlfY29tcGF0PTAgY29uc3RyYWluZWRfaW50cmE9MCBiZnJhbWVzPTMgYl9w\n",
       "eXJhbWlkPTIgYl9hZGFwdD0xIGJfYmlhcz0wIGRpcmVjdD0xIHdlaWdodGI9MSBvcGVuX2dvcD0w\n",
       "IHdlaWdodHA9MiBrZXlpbnQ9MjUwIGtleWludF9taW49MjAgc2NlbmVjdXQ9NDAgaW50cmFfcmVm\n",
       "cmVzaD0wIHJjX2xvb2thaGVhZD00MCByYz1jcmYgbWJ0cmVlPTEgY3JmPTIzLjAgcWNvbXA9MC42\n",
       "MCBxcG1pbj0wIHFwbWF4PTY5IHFwc3RlcD00IGlwX3JhdGlvPTEuNDAgYXE9MToxLjAwAIAAABFk\n",
       "ZYiEAD///vcj/AptaQ43T//c/41brlWpIDI+AFSE47v6e64OAJ+C6q3E2RK6QDFnjA56qCeEsWi8\n",
       "J5oiLq9ebrnQOYR/B5t0szSv6ymrStslq31bOU/L9guaxjyKd8f9O8OZuSxRdGc4DTYkpY1u0MFD\n",
       "gzqJcQ7yxubIuEk96xI6mI3K4TUG62je6T/QZXryyfpZpXD7iM3NtJZ0he8TxQ7Vu+cW3/5Ev9/F\n",
       "+Zbpg1tBq8AZ/aNn6j8/GrIYAbgCcrKZLg1VnFZu0/sKQPs3sIka7cghZf633drA970gjSdMpqsq\n",
       "/+AilDQzERIYGENu+rYU6K6ZVKK50H+iHfnrSUIojFr1DUHpCni5K5MLvqZOecpa3TWUUIvu9m1W\n",
       "a5T+ti0j0XtahdClqzGLtrbriY3oY4Tu0o2f+9DYFJLcnX2atxUrqW1h6kf1lzUYwFuvEbBp49Y8\n",
       "EuebyoUQuJKyEnMus5r0euz6L8V+wAz2zsehHDdp4RSSipdwbphzsaC2PqcueWzQHA/9xwkx1s3m\n",
       "bWLi/gcTZyHPKVYopBHx0+yG5zhkLGsndX+/LtfvlblEzZ8GY0b44WCOdPHFj7t1K2xS38KPScWN\n",
       "PP37eYUhxK6mdYEuGlXk2lTRGe8itIhjy5yw2D+fNBkhT/tfrf8MCQcRrj2arMMMnkEgNze729w8\n",
       "/W3bRrWuAMyG2h/VUqLzQi1vHhpywdTOSywd83m8r2C9fhzZFU6mcqfHhtNhXJUDird+WQaEzlMb\n",
       "jOKPHVrUcUfJmKk384LAV7UFpmBHYykHJbxHqcHhyfhuxK7bxDBKvzTIc7ztv25YiTh0HkRpxZIT\n",
       "nYOEPLK3kr1OUkMW0H5EUEzTcUdG+0lXYn2TLatsE9pSQ2+qRaPIZUlqgbpUYwZVLhlXgDS7O3d8\n",
       "1n8ZnLYlvjJKkVw54nSdibG9zijD/9MGcg5GGr1zgw2V6+64XXuIZfke0FCS64tvrOASgLrIaBbF\n",
       "HzHQrp+60VBfNEyZapR5FTx3AQ3TczBx6/Bg3nlZFMP3esPx2L9P8U8nfPnaWTqQgWkhINJ/9v9v\n",
       "2ZE/93ck4l+QaTYQA2j6esc/TnF2UBfYNBa84/DlicDNcUiXm92I61t5BQY5BuaugtPgbMpYp+zK\n",
       "0ugkiHswsSten2U+YAogKPZhTeT1hfkSezCwdQXCwcqPZhTksPGFUh7MLC6qWO0pgpVRIqk7Tpf0\n",
       "NwKWKgbUXmFUh7MKd6b2FUh7MK2e1smtHGxDOVTa4uoU2ODspTvgTSUNRPI/2brY8yzdj6EJNjLM\n",
       "YCoIoFUnj1Di9yjDhZf7391lAlb+x7esz1iAYQ9w99OTqWuSlNgeFUIXInVYMKyg+F5rhKbgKTK5\n",
       "RIDHkiSm4CE8o8kSU3AQjyjyRJTcBCvX+uS3t79Jr8mbA05o+WaSQdaKaG+GsB8mo2k5uxOo7Htb\n",
       "tPNKR6miU8pzEvd97Gig8bGsH0vpSmAO9IPrMnJd2Ulkk0iYFOIF9O8/LBApPLa1V1Dlk8nMGB4V\n",
       "Vgt/LYMKy7k2AZX/XJb298k1JKRJTcBCikeSJKbgIcx/rkt7e+vMU6vufRRJSJKbgIhukpElNwGe\n",
       "8Qnhq+X7x0RGIIxdC+Rq6HPS3YoHvXb+1rhLWoAq977DKahTxj9zaTH5MvC7VO0GGdcwvdIgwPHg\n",
       "UotjmYMKyko/5ate3vp+PgLpea4Sm4CHJP65Le3vksV5rhKbgIgyPJElNwE1jk0A8bKw0SUiSm4C\n",
       "J6/1yW9vfqEEfq9WjQnZNZwvifhM5yNbiTlJdp338U6knkn8KWjZFTKOZ8xdFWgEWev86OuZF/H4\n",
       "p3nC5HVUlfY6yO5Rvu0nzWHW8EKaLjdpSI2K8ptNxpTNAC4pBppCHjxZSEZnBOiuyGrBn7BstRGW\n",
       "e3jqeIgoD282GIZi55cZbN+EXVvYMXysevX5ztls1khGY8BmoJG8IDYDabbCpx2K6PaiihqITAGW\n",
       "2lZktLHIiIlAGW8qq+CpLri4KcpppD/2kPRV13azwXQnvKEhd0tSySG9Dl7ttg7zPLlQWO5u9yWV\n",
       "jfM6kWJcYZZFIlF1SuRRyLdgvn2iA+rXs4NlxnrLlkNTKWkGy5kvju6BQmxl4dtHRBHoJLjb78rs\n",
       "vF2LjklnvqBvV6sK9k6/EBpeI8jjUg9smFygS4++qmimfg2Wsp6rDwGLZG+2WxtouerW5KwE5IMy\n",
       "2o5uQMp8iIjinTZ8if1wkuuLc9iMAkP0gkX9YNsPp1eq3/FkX7QcgD+Q7a2SXlb5nIwAcEhC2ZSq\n",
       "4Yp6Lfncq1vxB+QndubNQHZPsa1y0gXotUg7mJEdmbbAZdoVUhzlJnDGGz9IHdWet9vQXsd3SdNC\n",
       "4aQ9SUc19WLEnNC9JSMsgG/MffsBlZD4m6aCZ7d/W0RHTg5Bhz2YVAa3FnagUsU+r78HTqZzDbPu\n",
       "KRVJ2XC0rfrKWKdjQhqVUSKpOyXQMKpD2YVd7S0DFurowKWKdpP5SqiRVJ2WaGhuBSxTqGkaG4FL\n",
       "FQATpEzB4M3JQOli/FnpXwLQTva+Z1k7TOeJnVsdy14qCKBVJ1E+yXCT2YVpUe5blGHDD2bnCFQ5\n",
       "PbqTfdkCPf8ghpFRnT2F8tUGB4VPTqSot7e+RuKSkSU3Abetbr2rTg63zgnxfEvuoXmTvleIt528\n",
       "GCPF9+V8pE3pOrBSW/j87KYVZazMi0fvsACX6xaF28DKbtDfNSRsqx8US+Y2JZigygNPrM4nssOH\n",
       "UoavlTkkexjfS86HgMRb/nhg8oRsAI/Ih+miO8E5VtfITVsP8GBxVCK0ohpB8EmD5kg5Pxz2YWGA\n",
       "TOnXddWK+b2R84FLFOp2lYwUiqT4bvweCACEMfbxFXGfWMCcsuwSWkEWrZOcC9lNVkd9WpjXPhCo\n",
       "URQfLOBtzp2abDSKjOstAoDZexnY/OpKi3t75MOHkiSm4CIgTTUSkpElNwENevNcJTcBDcDzXCU3\n",
       "AQ/YeSJKbgJaJKz4sNGur/XJb298vMPJElNwG8K/DqI/8pLMg0s5hIdtK7wP7Knd7aJZwk7GWlck\n",
       "/mlbLd4/okaODyP0VRgVpQmbbRxLK01Ph9k51jhEUoz3aTgf6s1vmMT1nIfFSX+YChEpwZRi8glE\n",
       "2XqyU2L2dgI+WQ1YNTOxNoM58R46niDuNT4t6Ky0Nrgkuj5ir/+dZA1TaIbuxP1coQacQRMQaZZx\n",
       "9449g9OFte6G02iVhCmM+t4YhtNoyl1d2fGDGBPyXKAGWjSk3AXZPL1ANU2jSPTQX/fBP8gAo8Re\n",
       "MPYcLRVHDAgHjK8uW3EA4fnRX/RU8CM5Y31ozOuQmoDZaMkQ6/s9ndSWqBqm0aaqSCQyvFNyQDLR\n",
       "pHoNZ9UkqdC5BCM5Y8wi9993s+O9oI8CQbEzuYCLYGZaNDlEvvyWe918stGhw8iiGjvoIuZ+uq7F\n",
       "iohhRcIiW9eVWVRow/Q6VU9Ae72RqxhFXSOp2SrLJXBapnBRuL2QwmuySvtZhNZkkeH3pTHQ71bD\n",
       "A8mHv/h/rWAHvJQA2QTm67riClhUclW6TgHN8hKCTuqakBi7LWvoXKAjqH5/zAb+cwf74HuHnsgy\n",
       "1cO2N6DWUq+xZ1pSU9ydbtatILvrbdUUDKqbRTqXO9zhZ+Vs6v9o65g3exLHC8KUUK9u/ROiJu5Y\n",
       "wdnR2gVwCBKsbonA50zNzNcUiqTuYkLByo9mFflBYrowKWKd21opVRIqk/W9m5XyNDcClineMX0N\n",
       "wKWKdaHDobgUsU6ijFKqJFUnjAi/3ZiuAhM9coKUZ/8do18XPo1EU8wwHKbEixJhlK+5q0JxBV0M\n",
       "XuZaIXpFZrlBea07RvZMWrXt76h8eJOJSUiSm4CFiw8kSU3AQj9/65Le3vkv55rhKbgKDY2aLR5I\n",
       "kpuAhy3+uS3t75IRHkiSm4CI8vNcJTcBgVb/slRTMG9b5OZXupfc8QLkKe6F9XzXZMyindNm5+WW\n",
       "+caepjjo1o3183hTU7Od4aBjZsbXjrkpTYHi0TD7qQzOROqwYVlHqPNcJTcBChMeSJKbgIco/rkt\n",
       "7e+RS2xh/9clvb3y3X+uS3t75QKPJElNwEUa/rkt7e+bW+8+nUY732Ki5le6//0rczXRJUMxq74F\n",
       "1IJHC5fSBmDMO0vQ8+41bfwgiKg4vaNsq7yzOQvplB0oZhgJYYfx47oNWLJmcZMcbU2B42c/kUiS\n",
       "m4CJxDyRJTcBCpCTGQ8kSU3ARMF5rhKbgIf+PJElNwEYYPJElNwEfRIeEy353BvfwYI4cyXfT4pd\n",
       "J9NrTBHCUU7pswkUDn3XEmm//KEbyIKw71DHwdAcZH94fckTtScIHSAivUMgAZN3ONjsUK/jR8Dz\n",
       "YMM1mVNPWa7tyyTY87aBjkIVm6s5h/DTDA8/DDZIephp5i2sNudVloyB6t5tWDVRsTaMiroeOp4W\n",
       "gaB6JrV7QVwRS0jPUDPmqbRpIG+p5ZWtL7YmzQIzlkPnJv19sMoEZyyLhn0ik3ohucdEvEM5aohk\n",
       "j+7MkyQDLRocI8JLri3O0AfskcZe6MA12lG7GMuD3U0KtaZuZ2lgPdcIRnLJBORpqZTom02jJU3H\n",
       "QKE2JAKAZaNIgoBdhFQhQBlo0kFGG+DtboSwmg2WjIraJlo4podk2jJfi8vPO5gPnBIzlqhVYL8l\n",
       "nu9+IzlppMkWsI77cgDKr6vHDLRr9nE9BlVlUaMPzzWctqlNtPdadGhFtwYLPhHdqX6ON7T5e8CA\n",
       "oJYfq/jmwwXdbg84qIfvQ3J7uMXvebCUFGILjZbJVFrg+ofTNLWrSn+GZXohj9+azdE17dkkBV1G\n",
       "5R19Op4v8KaeOM6tNMYzIsojNyXL4oNoGjxk+XMR10hGJszrWYBoDg2ilw9pD1z7mqS3/wEshxkx\n",
       "kHHmiK/6Pg6l6BWp6nLiT8VIlI690UyByAfJazcsvi4zsY81ZgXa/XExit8r2mUsavXGiqTaoEWE\n",
       "6C/KhtqEPJe4N7SCdbW35Y9OXvbHi5rhVSVN7eKoU4pGXWWYXd3BZAV6GqkDOCflYnDV/lu3LTFm\n",
       "maw7oxjNq///+cEfiFP1zkmLvsGAusMHd+CEVPiDZhgAmWlfXT0wLc9fmAzPJXU50n9QPW9C+ZLP\n",
       "OYZv9T6CwHhyLLkWF/HuALUEd4q9XF+9rDtK3UKkLsAURm1CaGINThT1NybkzEkUmiJbZp4TunsV\n",
       "EIpq6n+j3SU1h7Sf0ZU8hKNMVs8sMeUueESa4ukK7o5KU4jLCYQyPJfcnR6v8bahOR4qe06wh4G5\n",
       "pNfzqcJF8/wHsqny8KgWveeEjq29+9Dsf/9hgSsldGNGTGimCfP11wTPUsZyArckabX6drhlqwe6\n",
       "x34mvIpTl5UL0AVi5/MYbS6NpsqNgSNV/8AwLvlfkq+s1OzP8TtiHI/77gy+woPKI8mP5zvXuvvD\n",
       "xPQvlDU/kza/UjvYayeaCdSo2RRkYBska660dveTgSnZ6OxH9NZbPT84cyRSniTEH9pRDNnFyiul\n",
       "ijOmBvaRnXxDe3ZThvDaOeEsX4KE0544TPzoYIh5VpaF0pfL0yzkoT+Kcy9hqlAa0/0SVxHVpyQ7\n",
       "q2czrIzsj0xbMWdI5hLwGjAsDoCFJiXQcISTxRWKbr+3P1CaIJT6MwAB8r2WHwP/fhlADrxYmttJ\n",
       "OZEKXp9DjfOhAW1pk6kygETpFG8ZhctTOO/ffXZ0vutJD2BKlViKaqIal6C9F/IVPwV03yX9MSMo\n",
       "AzjMCPyVtqVS73+x++Xfwfktg9FZS4T3Rx5kve9eDy0UpPevtdIR6s1FYAZrnR2NXxEqUQopnS07\n",
       "VDmXLnlcSVIxqPlMR99Nwn802UhAxbm+/b8sY8VmR8XXlCZfQV1zWdsb/2cW/5zW5heacH30ZSou\n",
       "F424M3JA8i6JXx34elPnPTHKk14zG23XXYiDrD+6TX85IAV/g74GEEFUfFMgB4VX9mvT13K+LpFG\n",
       "yYCAAAaNAAABIUGaJGxD//6plzhSOAHMuyu3H2IFro3+ae49NBTrPoa0Gj9QXbQgTO5VOhteAjnT\n",
       "xgOAumNODcWtEi4b3mHIKbAWPzE9jjAwb9tNpN3ylhyEnaBQJFgX1P7qCoai/r56J9eX4o9JLsxI\n",
       "oS9vEQhBwC0tWVQqMZulL/Lztl0GMxLkLBpflOwpC3815vdiEEUIzTwVZKs7fb+pnEKm05ttXuBb\n",
       "MRYZDBrGf8kBDSykmsFe+/TY9IDTiokMeoqw5tlCSPCeeHOViJQ+II66qVjIUSXm6/5b/RBNfAhS\n",
       "qt1ieTBdT0Y7/wC1HM7AgJo3aILtdVGHwwulzO07aIk9b/cx2GbPgB6NfXJabsXNHwe1Ys0Yaf1K\n",
       "mYZVksvo2ZPShD4w51MAAABYQZ5CeIZ/BNgxgsMsUuWknboCiY6sWvAAAmUxzt1AlNr2x/O1moQA\n",
       "h5/LQSE4xi9IvHJzf7+4kLbiz0nOfYLgQ62F5rCbHjvGA99q8/tbnJfoPh+SI0w0QQAAADwBnmF0\n",
       "Qr8HuAw55LC405/yMasS8WHhlFG1jOa3yrfDzOum4plxzuwcYYIeSB6LwokALMCTN5wosWL5AcAA\n",
       "AABCAZ5jakK/AWyyN6ZU9kAmtSbWFTO/tACZTsn03dfoDFG2D+Y9kMu8O/NxBicnLr3NsWKDCnRo\n",
       "+FjYwVTl/uL5VANRAAAAtkGaaEmoQWiZTAh3//6plgCg3Oe+z4B8ABKtLJ4JsSX2WKw55/Y4ET/O\n",
       "hXo9S2DHG4VF5WFGwIJRPK3IaOA/nlj/B04j9a/YZYvVXyYDo9dX9OczGkwiJAT9ZLHZSJIggJAe\n",
       "hstyeK0mtywrcFcCGWeHN7sPsnulGVyWqR3sAAotTnuNB9IQl5Scth+EYFBOoTBgfxE3EZxbGeNp\n",
       "O041AgtRD5pH9vaLYmhiTy37wXAlNUegZP3BAAAAYkGehkURLDP/AMQxMoeSL0pAL9MBHTP7eMAf\n",
       "okOLGVAwAP3WHLvcnYgQpNdQY12DTJYE3+hX1ky5pXZFKOwJGWpFaAB89J4QFp+L/m/9R2xfAE2Q\n",
       "NmXHUh0RHNwHL+jRthpbAAAAJwGepXRCvwFsTr3VpnjE49voBxFpOBiFFGbZFR10osw2hZBkN6Su\n",
       "oQAAACYBnqdqQr8BbLH51TLjXXslvj9Vthu0rO+fejvH1H0S5B83h80UUAAAAGtBmqxJqEFsmUwI\n",
       "d//+qZYAMBLbcAG6GcZKRpvRNr7Ilun3wbcIXye1V4pJkpoWtvrwGMCBlSoQK2N+vpOHLS23HLts\n",
       "9YtxNTCY34X3buta/pMGR1Hb0dsqztQ0CbBB4rBIYguHavS54JugCAAAACNBnspFFSwz/wDEMSs+\n",
       "Ne1GYFA14c8WS66AW6d6egngUAjDswAAABoBnul0Qr8BbE50nq0vPbydOargoe8mt88Q0AAAABkB\n",
       "nutqQr8BbLH78D+Esi29R2/Qzt6uJcq3AAAAIEGa7UmoQWyZTAh///6plgAwQ6OpXEowNKVv3OOL\n",
       "4c3BAAAAoEGbEUnhClJlMCH//qmWADGbP/h3xxAC3rWSRM1oHeD8adb0eRO3NtnRY2189ntPgZ1/\n",
       "Yg3Bq3gIgy9FStiALW7mGjNfR17uHeZs1jq/nZVnkOdELk0oGNvYF6+R/CtaaOW4J9k04w0kInQR\n",
       "2vnYa05ResY2TqwTmXx6IsNz9Q2TMpbYBEzEWotBdscTG7RrCpnYd+Hj/DRDkTbYOkGHjUkAAAAp\n",
       "QZ8vRTRMM/8AxCcj5AWEYHEdIAIVa2id8UzihqOn6yaQGGD4hmsBJcEAAAAcAZ9OdEK/AWxOd5Sv\n",
       "rD8UIwjCvJNn1E4t41aZSAAAACIBn1BqQr8BbLH8P/Zhqn7RkwjcKmdVPFIfPNBe9f8njluAAAAA\n",
       "P0GbVUmoQWiZTAh///6plgAxg6ImgY5KsAJbj+EiqJ4B7QuKDmtky3SQwS50THJVqCf2AWf++dua\n",
       "WkMjF1NxqQAAAC5Bn3NFESwz/wDEMStIDw9vOGAARDq0FTBmNJ8v8iNQMtVfL9CKT8dNyGfExCQY\n",
       "AAAAGgGfknRCvwFsTneUr6w/FqCKW9bxqv9zKq/xAAAAGwGflGpCvwFssfxAC63mMvOkf8/cau+d\n",
       "eVGh8QAAABlBm5lJqEFsmUwId//+qZYAMVcqLe7H83LAAAAAH0Gft0UVLDP/AMQxK0gztZbQGWQ0\n",
       "Mamp2K3dDUQ0ZUEAAAAVAZ/WdEK/AWxOcelRGYdUiJzIdBndAAAAGQGf2GpCvwFssfxAC63mMvOk\n",
       "f71q78g2qCAAAAAfQZvdSahBbJlMCHf//qmWADFVFJHoXyKtLzcR4QDHwQAAAC5Bn/tFFSwz/wDE\n",
       "MStIDONmt/mIAENujZI6Uz0cD+QHxW6DIU73e6vKlsdMbBRkAAAAGgGeGnRCvwFsTneUr6w/FqCK\n",
       "W9bxqv9zKq/xAAAAGwGeHGpCvwFssfxAC63mMvOkf8/cau+deVGh8QAAAB9BmgFJqEFsmUwIb//+\n",
       "p4QAYnhMXbt00u3ynV8HkdbAAAAAI0GeP0UVLDP/AMQxK0fbGjLpet1g6E5Xu1ySIRkj8leT+r1W\n",
       "AAAAGQGeXnRCvwFsTneUr6w/Fix8hdZ8822+DPkAAAAZAZ5AakK/AWyx+/A/hLItwHMID2o5SNJI\n",
       "YAAAAB1BmkVJqEFsmUwIV//+OEAFq+nCF6TQP03M2o0N0wAAAB9BnmNFFSwz/wDEMSs+XBg8u9FN\n",
       "To65ku5KnISEurh8AAAAGQGegnRCvwFsTncU520WC6z42OsUNl+zhYEAAAAZAZ6EakK/AWyx+/A/\n",
       "hLItwHMID2o5SNJIYQAABNltb292AAAAbG12aGQAAAAAAAAAAAAAAAAAAAPoAAAHbAABAAABAAAA\n",
       "AAAAAAAAAAAAAQAAAAAAAAAAAAAAAAAAAAEAAAAAAAAAAAAAAAAAAEAAAAAAAAAAAAAAAAAAAAAA\n",
       "AAAAAAAAAAAAAAAAAAACAAAEA3RyYWsAAABcdGtoZAAAAAMAAAAAAAAAAAAAAAEAAAAAAAAHbAAA\n",
       "AAAAAAAAAAAAAAAAAAAAAQAAAAAAAAAAAAAAAAAAAAEAAAAAAAAAAAAAAAAAAEAAAAABIAAAASAA\n",
       "AAAAACRlZHRzAAAAHGVsc3QAAAAAAAAAAQAAB2wAAAQAAAEAAAAAA3ttZGlhAAAAIG1kaGQAAAAA\n",
       "AAAAAAAAAAAAACgAAABMAFXEAAAAAAAtaGRscgAAAAAAAAAAdmlkZQAAAAAAAAAAAAAAAFZpZGVv\n",
       "SGFuZGxlcgAAAAMmbWluZgAAABR2bWhkAAAAAQAAAAAAAAAAAAAAJGRpbmYAAAAcZHJlZgAAAAAA\n",
       "AAABAAAADHVybCAAAAABAAAC5nN0YmwAAACWc3RzZAAAAAAAAAABAAAAhmF2YzEAAAAAAAAAAQAA\n",
       "AAAAAAAAAAAAAAAAAAABIAEgAEgAAABIAAAAAAAAAAEAAAAAAAAAAAAAAAAAAAAAAAAAAAAAAAAA\n",
       "AAAAAAAAAAAY//8AAAAwYXZjQwH0AA3/4QAXZ/QADZGbKCQS0IAAAAMAgAAAFAeKFMsBAAZo6+PE\n",
       "SEQAAAAYc3R0cwAAAAAAAAABAAAAJgAAAgAAAAAUc3RzcwAAAAAAAAABAAAAAQAAAUBjdHRzAAAA\n",
       "AAAAACYAAAABAAAEAAAAAAEAAAoAAAAAAQAABAAAAAABAAAAAAAAAAEAAAIAAAAAAQAACgAAAAAB\n",
       "AAAEAAAAAAEAAAAAAAAAAQAAAgAAAAABAAAKAAAAAAEAAAQAAAAAAQAAAAAAAAABAAACAAAAAAEA\n",
       "AAQAAAAAAQAACgAAAAABAAAEAAAAAAEAAAAAAAAAAQAAAgAAAAABAAAKAAAAAAEAAAQAAAAAAQAA\n",
       "AAAAAAABAAACAAAAAAEAAAoAAAAAAQAABAAAAAABAAAAAAAAAAEAAAIAAAAAAQAACgAAAAABAAAE\n",
       "AAAAAAEAAAAAAAAAAQAAAgAAAAABAAAKAAAAAAEAAAQAAAAAAQAAAAAAAAABAAACAAAAAAEAAAoA\n",
       "AAAAAQAABAAAAAABAAAAAAAAAAEAAAIAAAAAHHN0c2MAAAAAAAAAAQAAAAEAAAAmAAAAAQAAAKxz\n",
       "dHN6AAAAAAAAAAAAAAAmAAAUGQAAASUAAABcAAAAQAAAAEYAAAC6AAAAZgAAACsAAAAqAAAAbwAA\n",
       "ACcAAAAeAAAAHQAAACQAAACkAAAALQAAACAAAAAmAAAAQwAAADIAAAAeAAAAHwAAAB0AAAAjAAAA\n",
       "GQAAAB0AAAAjAAAAMgAAAB4AAAAfAAAAIwAAACcAAAAdAAAAHQAAACEAAAAjAAAAHQAAAB0AAAAU\n",
       "c3RjbwAAAAAAAAABAAAAMAAAAGJ1ZHRhAAAAWm1ldGEAAAAAAAAAIWhkbHIAAAAAAAAAAG1kaXJh\n",
       "cHBsAAAAAAAAAAAAAAAALWlsc3QAAAAlqXRvbwAAAB1kYXRhAAAAAQAAAABMYXZmNTYuNDAuMTAx\n",
       "\" type=\"video/mp4\">\n",
       " Your browser does not support the video tag.\n",
       "</video>"
      ],
      "text/plain": [
       "<matplotlib.animation.FuncAnimation at 0x1095df190>"
      ]
     },
     "execution_count": 50,
     "metadata": {},
     "output_type": "execute_result"
    }
   ],
   "source": [
    "fig, ax = plt.subplots(figsize=(4,4)); ax.axis('equal'); ax.grid('on');\n",
    "\n",
    "line, = ax.plot([], [], 'b', lw=2);\n",
    "\n",
    "# initialization -- called once\n",
    "def init():\n",
    "    gndh,gndv = [-10.,10.,10.,-10.],[0.,0.,-5.,-.5]\n",
    "    ax.fill(gndh,gndv,'gray')\n",
    "    line.set_data([], [])\n",
    "    ax.set_xlim(( -1., 1.))\n",
    "    ax.set_ylim(( -.15, 2.))\n",
    "    return (line,)\n",
    "\n",
    "# animation -- called iteratively\n",
    "def animate(i):\n",
    "    h,v,th = x_[i,:3]\n",
    "    w = .25\n",
    "    x = np.array([-w/2.,w/2.,np.nan,0.,0.])\n",
    "    y = np.array([0.,0.,np.nan,0.,+w/3.])\n",
    "    z = (x + 1.j*y)*np.exp(1.j*th) + (h + 1.j*v)\n",
    "    line.set_data(z.real, z.imag)\n",
    "    return (line,)\n",
    "\n",
    "plt.close(fig)\n",
    "\n",
    "def frames(t_,fps=20):\n",
    "    t = 0.\n",
    "    while (t_ >= t).nonzero()[0].size > 0:\n",
    "        yield (t_ >= t).nonzero()[0][0]\n",
    "        t += 1./fps\n",
    "\n",
    "# call the animator\n",
    "animation.FuncAnimation(fig, animate, init_func=init, repeat=True,\n",
    "                        frames=frames(t_), interval=20, blit=True)"
   ]
  },
  {
   "cell_type": "code",
   "execution_count": null,
   "metadata": {
    "collapsed": true
   },
   "outputs": [],
   "source": []
  }
 ],
 "metadata": {
  "kernelspec": {
   "display_name": "Python 2",
   "language": "python",
   "name": "python2"
  },
  "language_info": {
   "codemirror_mode": {
    "name": "ipython",
    "version": 2
   },
   "file_extension": ".py",
   "mimetype": "text/x-python",
   "name": "python",
   "nbconvert_exporter": "python",
   "pygments_lexer": "ipython2",
   "version": "2.7.10"
  }
 },
 "nbformat": 4,
 "nbformat_minor": 0
}
