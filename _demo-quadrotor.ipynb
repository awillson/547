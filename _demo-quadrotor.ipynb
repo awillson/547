{
 "cells": [
  {
   "cell_type": "code",
   "execution_count": 1,
   "metadata": {
    "collapsed": false
   },
   "outputs": [
    {
     "name": "stdout",
     "output_type": "stream",
     "text": [
      "Automatic pdb calling has been turned ON\n"
     ]
    }
   ],
   "source": [
    "%matplotlib inline\n",
    "%pdb on\n",
    "%run _547"
   ]
  },
  {
   "cell_type": "markdown",
   "metadata": {},
   "source": [
    "# control system model\n",
    "Consider the simplified quadrotor model\n",
    "$$m\\ddot{h} = u_1\\sin\\theta,$$\n",
    "$$m\\ddot{v} = -mg + u_1\\cos\\theta,$$\n",
    "$$I\\ddot{\\theta} = u_2$$\n",
    "where ($h$, $v$) denote the quadrotor (horizontal, vertical) position and $\\theta$ denotes the quadrotor's rotation, ($m$, $I$) denote quadrotor (mass, inertia), $g$ is acceleration due to gravity, and ($u_1$, $u_2$) denote the net (thrust, torque) applied by the spinning rotors.\n",
    "\n",
    "If we measure or observe positions ($h$, $v$), e.g. with GPS, then the control system model is\n",
    "$$\\frac{d}{dt}\\left[\\begin{array}{c} q \\\\ \\dot{q} \\end{array}\\right] = \\left[\\begin{array}{c} \\dot{q} \\\\ F((q,\\dot{q}),u) \\end{array}\\right] = f((q,\\dot{q}),u),\\ y = h(q,\\dot{q})$$\n",
    "where $q = (h,v,\\theta)\\in\\mathbb{R}^3$, $u = (u_1,u_2)\\in\\mathbb{R}^2$, $F : \\mathbb{R}^3 \\times \\mathbb{R}^2 \\rightarrow \\mathbb{R}^3$ is defined by \n",
    "$$F((q,\\dot{q}),u) = \\ddot{q} = \\left[\\begin{array}{c} \\frac{u_1}{m}\\sin\\theta \\\\ -g + \\frac{u_1}{m}\\cos\\theta \\\\ \\frac{u_2}{I}\\end{array}\\right],$$ \n",
    "and $h : \\mathbb{R}^3 \\rightarrow \\mathbb{R}^2$ is defined by \n",
    "$$h(q,\\dot{q}) = (h,v).$$\n",
    "\n",
    "    [1]: http://dx.doi.org/10.1109/ROBOT.2010.5509452"
   ]
  },
  {
   "cell_type": "markdown",
   "metadata": {},
   "source": [
    "# Simulation\n",
    "To simulate the pendulum, we first implement Python versions of the ODE control system model; it'll be computationally expedient if both $f$ and $h$ accept $t$, $x$, and $u$ as arguments even though mathematically they may not depend on all three:"
   ]
  },
  {
   "cell_type": "code",
   "execution_count": 36,
   "metadata": {
    "collapsed": false
   },
   "outputs": [],
   "source": [
    "g,m,I = 9.81,1.,1. # m/sec^2, kg, kg m^2\n",
    "\n",
    "def f(t,x,u):\n",
    "    q,dq = x[:3],x[3:] # positions, velocities\n",
    "    h,v,theta = q # horiz., vert., rotation\n",
    "    u1,u2 = u # thrust, torque\n",
    "    return np.hstack([dq,(u1/m)*np.sin(theta),\n",
    "                        -g + (u1/m)*np.cos(theta),\n",
    "                        u2/I])\n",
    "\n",
    "def h(t,x,u):\n",
    "    q,dq = x[:3],x[3:] # positions, velocities\n",
    "    h,v,theta = q # horiz., vert., rotation\n",
    "    return np.array([h,v]) # horizontal, vertical position"
   ]
  },
  {
   "cell_type": "markdown",
   "metadata": {},
   "source": [
    "Note that $q_0 = 0$, $\\dot{q}_0 = 0$ (i.e. zero position and zero velocity) is an equilibrium when input $u = (mg,0)$ (i.e. zero torque and thrust $mg$) is applied:"
   ]
  },
  {
   "cell_type": "code",
   "execution_count": 37,
   "metadata": {
    "collapsed": false
   },
   "outputs": [
    {
     "name": "stdout",
     "output_type": "stream",
     "text": [
      "x0 = [ 0.  0.  0.  0.  0.  0.] \n",
      "f(x0) = [ 0.  0.  0.  0.  0.  0.]\n"
     ]
    }
   ],
   "source": [
    "q0 = np.array([0.,0.,0.])\n",
    "dq0 = np.array([0.,0.,0.])\n",
    "x0 = np.hstack((q0,dq0))\n",
    "u0 = np.array([m*g,0.])\n",
    "print 'x0 =',x0,'\\nf(x0) =',f(0.,x0,u0)"
   ]
  },
  {
   "cell_type": "markdown",
   "metadata": {},
   "source": [
    "Let's simulate the result of applying a sinusoidal thrust, and plot/animate the result:"
   ]
  },
  {
   "cell_type": "code",
   "execution_count": 41,
   "metadata": {
    "collapsed": false
   },
   "outputs": [
    {
     "data": {
      "text/plain": [
       "<matplotlib.text.Text at 0x108d17f50>"
      ]
     },
     "execution_count": 41,
     "metadata": {},
     "output_type": "execute_result"
    },
    {
     "data": {
      "image/png": "[encoded data removed]",
      "text/plain": [
       "<matplotlib.figure.Figure at 0x108a16b10>"
      ]
     },
     "metadata": {},
     "output_type": "display_data"
    }
   ],
   "source": [
    "dt = 1e-1 # coarse timestep\n",
    "freq = .5 # one cycle every two seconds\n",
    "t = 1./freq # one period\n",
    "q = [0.,1.,0.] # start 1m up off the ground\n",
    "dq = [0.,0.,0.] # start with zero velocity\n",
    "x = np.hstack((q,dq))\n",
    "\n",
    "# input is a periodic function of time\n",
    "ut = lambda t : np.array([m*g + np.cos(2*np.pi*t*freq),0.])\n",
    "# lambda is a shorthand way to define a function\n",
    "# -- equivalently:\n",
    "def u(t):\n",
    "    return np.array([m*g + np.cos(2*np.pi*t*freq),0.])\n",
    "\n",
    "sim = forward_euler\n",
    "t_,x_ = sim(f,t,x,dt=dt,ut=ut)\n",
    "# sim() returns arrays t_ and x_\n",
    "# x_[j] is the state of the system (i.e. pos. and vel.) at time t_[j]\n",
    "\n",
    "fig = plt.figure();\n",
    "\n",
    "ax = plt.subplot(211)\n",
    "ax.plot(t_,x_[:,:3],'.-')\n",
    "ax.set_xlabel('time (sec)')\n",
    "ax.set_ylabel('position')\n",
    "ax.legend([r'$h$',r'$v$',r'$\\theta$'],ncol=3,loc='right')\n",
    "\n",
    "ax = plt.subplot(212)\n",
    "ax.plot(t_,x_[:,3:],'.-')\n",
    "ax.set_xlabel('time (sec)')\n",
    "ax.set_ylabel('velocity')"
   ]
  },
  {
   "cell_type": "code",
   "execution_count": 42,
   "metadata": {
    "collapsed": true
   },
   "outputs": [],
   "source": [
    "%run _anim"
   ]
  },
  {
   "cell_type": "code",
   "execution_count": 3,
   "metadata": {
    "collapsed": false
   },
   "outputs": [
    {
     "ename": "NameError",
     "evalue": "name 'animation' is not defined",
     "output_type": "error",
     "traceback": [
      "\u001b[0;31m---------------------------------------------------------------------------\u001b[0m",
      "\u001b[0;31mNameError\u001b[0m                                 Traceback (most recent call last)",
      "\u001b[0;32m<ipython-input-3-9d3fc7b97620>\u001b[0m in \u001b[0;36m<module>\u001b[0;34m()\u001b[0m\n\u001b[1;32m     26\u001b[0m \u001b[0;34m\u001b[0m\u001b[0m\n\u001b[1;32m     27\u001b[0m \u001b[0;31m# call the animator\u001b[0m\u001b[0;34m\u001b[0m\u001b[0;34m\u001b[0m\u001b[0m\n\u001b[0;32m---> 28\u001b[0;31m animation.FuncAnimation(fig, animate, init_func=init, repeat=True,\n\u001b[0m\u001b[1;32m     29\u001b[0m                         frames=np.arange(0.,t_[-1],.1), interval=20, blit=True)\n",
      "\u001b[0;31mNameError\u001b[0m: name 'animation' is not defined"
     ]
    },
    {
     "name": "stdout",
     "output_type": "stream",
     "text": [
      "> \u001b[0;32m<ipython-input-3-9d3fc7b97620>\u001b[0m(28)\u001b[0;36m<module>\u001b[0;34m()\u001b[0m\n",
      "\u001b[0;32m     27 \u001b[0;31m\u001b[0;31m# call the animator\u001b[0m\u001b[0;34m\u001b[0m\u001b[0;34m\u001b[0m\u001b[0m\n",
      "\u001b[0m\u001b[0;32m---> 28 \u001b[0;31manimation.FuncAnimation(fig, animate, init_func=init, repeat=True,\n",
      "\u001b[0m\u001b[0;32m     29 \u001b[0;31m                        frames=np.arange(0.,t_[-1],.1), interval=20, blit=True)\n",
      "\u001b[0m\n",
      "ipdb> q\n"
     ]
    }
   ],
   "source": [
    "fig, ax = plt.subplots(figsize=(4,4)); ax.axis('equal'); ax.grid('on');\n",
    "\n",
    "line, = ax.plot([], [], 'b', lw=2);\n",
    "\n",
    "# initialization -- called once\n",
    "def init():\n",
    "    gndh,gndv = [-10.,10.,10.,-10.],[0.,0.,-5.,-.5]\n",
    "    ax.fill(gndh,gndv,'gray')\n",
    "    line.set_data([], [])\n",
    "    ax.set_xlim(( -1., 1.))\n",
    "    ax.set_ylim(( -.15, 2.))\n",
    "    return (line,)\n",
    "\n",
    "# animation -- called iteratively\n",
    "def animate(t):\n",
    "    j = (t_ >= t).nonzero()[0][0]\n",
    "    h,v,th = x_[j,:3]\n",
    "    w = .25\n",
    "    x = np.array([-w/2.,w/2.,np.nan,0.,0.])\n",
    "    y = np.array([0.,0.,np.nan,0.,+w/3.])\n",
    "    z = (x + 1.j*y)*np.exp(1.j*th) + (h + 1.j*v)\n",
    "    line.set_data(z.real, z.imag)\n",
    "    return (line,)\n",
    "\n",
    "plt.close(fig)\n",
    "\n",
    "# call the animator\n",
    "animation.FuncAnimation(fig, animate, init_func=init, repeat=True,\n",
    "                        frames=np.arange(0.,t_[-1],.1), interval=20, blit=True)"
   ]
  },
  {
   "cell_type": "code",
   "execution_count": null,
   "metadata": {
    "collapsed": true
   },
   "outputs": [],
   "source": []
  }
 ],
 "metadata": {
  "kernelspec": {
   "display_name": "Python 2",
   "language": "python",
   "name": "python2"
  },
  "language_info": {
   "codemirror_mode": {
    "name": "ipython",
    "version": 2
   },
   "file_extension": ".py",
   "mimetype": "text/x-python",
   "name": "python",
   "nbconvert_exporter": "python",
   "pygments_lexer": "ipython2",
   "version": "2.7.10"
  }
 },
 "nbformat": 4,
 "nbformat_minor": 0
}
