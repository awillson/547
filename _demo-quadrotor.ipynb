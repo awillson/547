{
 "cells": [
  {
   "cell_type": "code",
   "execution_count": 1,
   "metadata": {
    "collapsed": false
   },
   "outputs": [
    {
     "name": "stderr",
     "output_type": "stream",
     "text": [
      "/usr/lib/python2.7/dist-packages/matplotlib/font_manager.py:273: UserWarning: Matplotlib is building the font cache using fc-list. This may take a moment.\n",
      "  warnings.warn('Matplotlib is building the font cache using fc-list. This may take a moment.')\n"
     ]
    },
    {
     "name": "stdout",
     "output_type": "stream",
     "text": [
      "Automatic pdb calling has been turned ON\n"
     ]
    }
   ],
   "source": [
    "%matplotlib inline\n",
    "%pdb on\n",
    "%run _547"
   ]
  },
  {
   "cell_type": "markdown",
   "metadata": {},
   "source": [
    "# control system model\n",
    "Consider the simplified quadrotor model\n",
    "$$m\\ddot{h} = u_1\\sin\\theta,$$\n",
    "$$m\\ddot{v} = -mg + u_1\\cos\\theta,$$\n",
    "$$I\\ddot{\\theta} = u_2$$\n",
    "where ($h$, $v$) denote the quadrotor (horizontal, vertical) position and $\\theta$ denotes the quadrotor's rotation, ($m$, $I$) denote quadrotor (mass, inertia), $g$ is acceleration due to gravity, and ($u_1$, $u_2$) denote the net (thrust, torque) applied by the spinning rotors.\n",
    "\n",
    "If we measure or observe positions ($h$, $v$), e.g. with GPS, then the control system model is\n",
    "$$\\frac{d}{dt}\\left[\\begin{array}{c} q \\\\ \\dot{q} \\end{array}\\right] = \\left[\\begin{array}{c} \\dot{q} \\\\ F((q,\\dot{q}),u) \\end{array}\\right] = f((q,\\dot{q}),u),\\ y = h(q,\\dot{q})$$\n",
    "where $q = (h,v,\\theta)\\in\\mathbb{R}^3$, $u = (u_1,u_2)\\in\\mathbb{R}^2$, $F : \\mathbb{R}^3 \\times \\mathbb{R}^2 \\rightarrow \\mathbb{R}^3$ is defined by \n",
    "$$F((q,\\dot{q}),u) = \\ddot{q} = \\left[\\begin{array}{c} \\frac{u_1}{m}\\sin\\theta \\\\ -g + \\frac{u_1}{m}\\cos\\theta \\\\ \\frac{u_2}{I}\\end{array}\\right],$$ \n",
    "and $h : \\mathbb{R}^3 \\rightarrow \\mathbb{R}^2$ is defined by \n",
    "$$h(q,\\dot{q}) = (h,v).$$\n",
    "\n",
    "    [1]: http://dx.doi.org/10.1109/ROBOT.2010.5509452"
   ]
  },
  {
   "cell_type": "markdown",
   "metadata": {},
   "source": [
    "# Simulation\n",
    "To simulate the pendulum, we first implement Python versions of the ODE control system model; it'll be computationally expedient if both $f$ and $h$ accept $t$, $x$, and $u$ as arguments even though mathematically they may not depend on all three:"
   ]
  },
  {
   "cell_type": "code",
   "execution_count": 2,
   "metadata": {
    "collapsed": false
   },
   "outputs": [],
   "source": [
    "g,m,I = 9.81,1.,1. # m/sec^2, kg, kg m^2\n",
    "\n",
    "def f(t,x,u):\n",
    "    q,dq = x[:3],x[3:] # positions, velocities\n",
    "    h,v,theta = q # horiz., vert., rotation\n",
    "    u1,u2 = u # thrust, torque\n",
    "    return np.hstack([dq,(u1/m)*np.sin(theta),\n",
    "                        -g + (u1/m)*np.cos(theta),\n",
    "                        u2/I])\n",
    "\n",
    "def h(t,x,u):\n",
    "    q,dq = x[:3],x[3:] # positions, velocities\n",
    "    h,v,theta = q # horiz., vert., rotation\n",
    "    return np.array([h,v]) # horizontal, vertical position"
   ]
  },
  {
   "cell_type": "markdown",
   "metadata": {},
   "source": [
    "Note that $q_0 = 0$, $\\dot{q}_0 = 0$ (i.e. zero position and zero velocity) is an equilibrium when input $u = (mg,0)$ (i.e. zero torque and thrust $mg$) is applied:"
   ]
  },
  {
   "cell_type": "code",
   "execution_count": 3,
   "metadata": {
    "collapsed": false
   },
   "outputs": [
    {
     "name": "stdout",
     "output_type": "stream",
     "text": [
      "x0 = [ 0.  0.  0.  0.  0.  0.] \n",
      "f(x0) = [ 0.  0.  0.  0.  0.  0.]\n"
     ]
    }
   ],
   "source": [
    "q0 = np.array([0.,0.,0.])\n",
    "dq0 = np.array([0.,0.,0.])\n",
    "x0 = np.hstack((q0,dq0))\n",
    "u0 = np.array([m*g,0.])\n",
    "print 'x0 =',x0,'\\nf(x0) =',f(0.,x0,u0)"
   ]
  },
  {
   "cell_type": "markdown",
   "metadata": {},
   "source": [
    "Let's simulate the result of applying a sinusoidal thrust, and plot/animate the result:"
   ]
  },
  {
   "cell_type": "code",
   "execution_count": 4,
   "metadata": {
    "collapsed": false
   },
   "outputs": [
    {
     "data": {
      "text/plain": [
       "<matplotlib.text.Text at 0x7f6c45724890>"
      ]
     },
     "execution_count": 4,
     "metadata": {},
     "output_type": "execute_result"
    },
    {
     "data": {
      "image/png": "[encoded data removed]",
      "text/plain": [
       "<matplotlib.figure.Figure at 0x7f6c458521d0>"
      ]
     },
     "metadata": {},
     "output_type": "display_data"
    }
   ],
   "source": [
    "dt = 1e-1 # coarse timestep\n",
    "freq = .5 # one cycle every two seconds\n",
    "t = 1./freq # one period\n",
    "q = [0.,1.,0.] # start 1m up off the ground\n",
    "dq = [0.,0.,0.] # start with zero velocity\n",
    "x = np.hstack((q,dq))\n",
    "\n",
    "# input is a periodic function of time\n",
    "ut = lambda t : np.array([m*g + np.cos(2*np.pi*t*freq),0.])\n",
    "# lambda is a shorthand way to define a function\n",
    "# -- equivalently:\n",
    "def u(t):\n",
    "    return np.array([m*g + np.cos(2*np.pi*t*freq),0.])\n",
    "\n",
    "sim = forward_euler\n",
    "t_,x_ = sim(f,t,x,dt=dt,ut=ut)\n",
    "# sim() returns arrays t_ and x_\n",
    "# x_[j] is the state of the system (i.e. pos. and vel.) at time t_[j]\n",
    "\n",
    "fig = plt.figure();\n",
    "\n",
    "ax = plt.subplot(211)\n",
    "ax.plot(t_,x_[:,:3],'.-')\n",
    "ax.set_xlabel('time (sec)')\n",
    "ax.set_ylabel('position')\n",
    "ax.legend([r'$h$',r'$v$',r'$\\theta$'],ncol=3,loc='right')\n",
    "\n",
    "ax = plt.subplot(212)\n",
    "ax.plot(t_,x_[:,3:],'.-')\n",
    "ax.set_xlabel('time (sec)')\n",
    "ax.set_ylabel('velocity')"
   ]
  },
  {
   "cell_type": "code",
   "execution_count": 5,
   "metadata": {
    "collapsed": true
   },
   "outputs": [],
   "source": [
    "%run _anim"
   ]
  },
  {
   "cell_type": "code",
   "execution_count": 6,
   "metadata": {
    "collapsed": false
   },
   "outputs": [
    {
     "data": {
      "text/html": [
       "<video controls>\n",
       " <source src=\"data:video/x-m4v;base64,AAAAIGZ0eXBpc29tAAACAGlzb21pc28yYXZjMW1wNDEAAAAIZnJlZQAAJaBtZGF0AAACrQYF//+p\n",
       "3EXpvebZSLeWLNgg2SPu73gyNjQgLSBjb3JlIDE0OCByMjY0MyA1YzY1NzA0IC0gSC4yNjQvTVBF\n",
       "Ry00IEFWQyBjb2RlYyAtIENvcHlsZWZ0IDIwMDMtMjAxNSAtIGh0dHA6Ly93d3cudmlkZW9sYW4u\n",
       "b3JnL3gyNjQuaHRtbCAtIG9wdGlvbnM6IGNhYmFjPTEgcmVmPTMgZGVibG9jaz0xOjA6MCBhbmFs\n",
       "eXNlPTB4MzoweDExMyBtZT1oZXggc3VibWU9NyBwc3k9MSBwc3lfcmQ9MS4wMDowLjAwIG1peGVk\n",
       "X3JlZj0xIG1lX3JhbmdlPTE2IGNocm9tYV9tZT0xIHRyZWxsaXM9MSA4eDhkY3Q9MSBjcW09MCBk\n",
       "ZWFkem9uZT0yMSwxMSBmYXN0X3Bza2lwPTEgY2hyb21hX3FwX29mZnNldD00IHRocmVhZHM9MSBs\n",
       "b29rYWhlYWRfdGhyZWFkcz0xIHNsaWNlZF90aHJlYWRzPTAgbnI9MCBkZWNpbWF0ZT0xIGludGVy\n",
       "bGFjZWQ9MCBibHVyYXlfY29tcGF0PTAgY29uc3RyYWluZWRfaW50cmE9MCBiZnJhbWVzPTMgYl9w\n",
       "eXJhbWlkPTIgYl9hZGFwdD0xIGJfYmlhcz0wIGRpcmVjdD0xIHdlaWdodGI9MSBvcGVuX2dvcD0w\n",
       "IHdlaWdodHA9MiBrZXlpbnQ9MjUwIGtleWludF9taW49MjAgc2NlbmVjdXQ9NDAgaW50cmFfcmVm\n",
       "cmVzaD0wIHJjX2xvb2thaGVhZD00MCByYz1jcmYgbWJ0cmVlPTEgY3JmPTIzLjAgcWNvbXA9MC42\n",
       "MCBxcG1pbj0wIHFwbWF4PTY5IHFwc3RlcD00IGlwX3JhdGlvPTEuNDAgYXE9MToxLjAwAIAAABvS\n",
       "ZYiEAD///vcj/AptaQ43T//c/41brlWpIDI+AAAmBiABarnphbZizdoAg4Vp6ak7I2rA6SFKR4x+\n",
       "2JZSpg1ShNGnDnA8KcA8NwkUQpOjvONQ95NGhy2l6/wyAzDEQIi70gOx6Cav8P356vszQUXsmtvw\n",
       "L4cCF5v1GTtwfsbteZ4RMiBo1sFhFuM/kwbAdyMy895uj3RSOu14zSDxn0yxXWTkg1RJLAQ3IFZ3\n",
       "RUrKntiVzQAYOWbTiykuCe+0DkOc6rcVACELVBZ/tF1/wcGe/HADYZMcau+lik76vABkBp0dyIa5\n",
       "fF1/+RT/f3/PkAK2eBWZQ/c7rarvwjpSqPGGLQhFcAz2J8YKcNBv6T8avaacvo0f7yEaByfNa0ms\n",
       "flHzdl6Jov1K1pIrQa77t/k0lAl1B+ONzWWGWiZJpqmrfhKsHHsONw5zNBQxouC5JYROoDacgixw\n",
       "+eg6YtbCGwjGGlyQb27yM0YUHYPtxPYEMCw6+qio8j7orsnT65u8RlAFFz36Ag3ZjtIe48VCRJPp\n",
       "QIuuqE9xDliIG8DmKrd+yKEUrHSLzchEwjUBFpbMdL2HJSfzy5chTU6J826UYeuwAvpDSmPH729q\n",
       "zYhwcyi7bjhETRhf1tUtaZuHL6Q08P/jGyovsbC580+zzEkUAa6OcbqNvrqLtuOETsxuEXZQt+NM\n",
       "LR7/y0I10BSNScz7PMSRQBro7BL/N9dRdtxwim98A12ULfjTC2oWJZ1AXEZaP0EdjsEPZyDZjI4P\n",
       "9tAw25mSJeyL6zw8l8gsyND50Bqn9LD9Rnyi6j4j44Z2vLxSmour97JHvRE0BG3Sn0529D4fwQ8t\n",
       "eMuzNamA/h7FewljcsvcWQT+IFxGM5ytGsAoHHgONeen2A3gWhAwGe/Bm3kJmIcidPHsBe1YRPMu\n",
       "gg6yXrns0/TbXWMPrlHznB1sICIeOTweNoDuSHtQhAqJ2kHYsj60IyJ+53XaQXVc7w/joZg867Ez\n",
       "VwGe/aCk4BQVNRmjO10Qci43vFp4g8kea2Kw4n5mXNlU5SFvp2M7rGUXKsJxViD1juAQHETbNimI\n",
       "Q3W9gHYzxL7s7XateE8c7Ww3i2TFUna3hd99gV58kUN7ev9nilbn5dZ6SWglKqL+9B58BOzQDr5e\n",
       "D1QiMqxdlKqTNZkRY9dcLteWhwjY3vjZFuZe5twxkbnJWfrS/KA2bVfQI77eJkFHno7TPxgXTa/q\n",
       "At5z07fVoYGs7d/nCkr/393qw8krEWgl9y00BV2PObw1nv7kga/Y6MQ9vyBAsR30+hQYAbRqJQTL\n",
       "LMpkoNDwgooGwWrz88teJa49e6d5W3k1aWSPTO9Pu5opmnVL+y4T1eKW/NeEEpQMQP+ReorwJNDI\n",
       "TlqTi4rLQGYuyXDsRiDHbmJWOxA8Vszy1+nvRgTPptdTtF047YjJ9yakG7u/sRfNUY0hxn+/9C3T\n",
       "3FbonzVzxKMYEz61a5tGvlLjtiMn3JqX+tGWkkk1RlGejuILBmQz8+BSIXzkEodB7Pp7HUX05yYO\n",
       "b7mSoFQeWpYi+aozWoOIdbDAQ2b036821+nvRgTPsU74xW1YDckQDTIzacBf6+JciJpnAkbsbx7g\n",
       "2dyzbf7lvx8GFHYRBpSEvnvJXzrDaulFraSZmZXaRa5Gb79P1GuhpG3gSbqtHY2vnHMK7v/md+VI\n",
       "I/whzrTRnJ/O9yE7rQmO5P0SXFmPLrZIs7j0Llrd0Vk0iBJdf4V3JYUp/aFvCiilOKZm4v6n+q8C\n",
       "H+ENpPfR5hPKqxaG6AX+0/Q5rFyoXL3LIHvMaKmGyH9JpuwQESAq8P75awNXOAoMIID2q/d0M0FN\n",
       "zSuBZtRU3rFMhS870X2g/PAlNSeNCt43tzXcjL9VI06xjN7tlK0PrznYgLG0H3CahYjoqjYS9iNs\n",
       "Yp7qeEglfR/XKTwZSwYWCYla24P0D55EkzL3THSFaLUUq5K0Dn5wtdvxKt04ivNMBQNwRfxwiurJ\n",
       "c4ZKm9iJpiQkM2DAkwKo0IlecoSSfjOTJsn/Px1io2E14V7mLV9ajWkPZ1pZwpAub7E9ZPQ9QaGW\n",
       "kP7LZrwOe5drS6XmcMiwtyTC9+KliG0g+p9Fqv/qHpDugAFW1KJDjK0IDei7ZRpPZj9HxiwxXa4Y\n",
       "U8Bc7FcacwvKsnq2Tn/26fQAQ8mH/tOZfgSURU+hawZjFCRs6epfdO2ud4izEMbsCFX9af/lVxfa\n",
       "NEtvdscMXW8maMVy71maWQgjicptza3KNOxXykMZUvRpbXWUAi/PhJAUA6u+ODZZtUIkZ5nkomub\n",
       "Z5Vj5F89hGhI1deo5CCmL/GORQmyk++RJnpKE87LmyrWvGUsD3Kr0kyaQHXzrfB2wAOA+5jYh7Pm\n",
       "fIUBYl/DsH8ibVk42G0prDhNPKqTp6Ep4ccZXb2WzXSZfIl4ZFhbkmF5Zi60NpB9T6Mgf/avndQg\n",
       "AnJ5I8Yild2/LDXa0JoR6LTiHFngd2ABMwQZGTPlqdbR6lyJQTveZljGB+6A6C7xGN9JIBhLi1Mg\n",
       "IDOadIK0KXn7zeSwljMt6SihrC/eTidJoB0M0FNzStUUPSKP4UOpOh4heQj8m68uWnRmEjyw7qOk\n",
       "8RjBZKQVuMPme6BDgeneVVCJGTvlQf7Mby+Ndav6VJMUa+LmuvUageJdWzRv87gwQ1QYs1KAJ91r\n",
       "xlLA9yxusYzzsuq+BmkzYrjkYrfmen8wzYUBAwl/DsH9ClTKx+GM9+JwH6pMWmg1BfSfsvt3VvS7\n",
       "c2i/KfsjBmvLqwlG7RFxGhcQhWTOzUy3m4cOhXEPe/sVA9yKWvYvQYQS06zv/YuYtLH6WkJp9xvE\n",
       "PUqlwLIsQZWkK5g0tEECaAxlMvLRsi/GzW98s8p4+GuqHs+elwwdrgCJrYNb6Y1POM30KdKiOfRn\n",
       "mqTCZ7P0DCxo+S9YGb0V/0pIoisuomSd8Z9o35fTo1s8abl34sdOSZyoeBQEpmfoZJupuOLsU4BW\n",
       "NN5LHnTyucZvnk8Fy8rx/3T/DPYfX8MjAXbWOKqTzYSTKQ9bqpTc0yBTKeBeRfzACfOgIhqDjbv3\n",
       "DeI2Lj+zDPGSd8AViNZ02oOrMJtCURZPiATyTkZM3VEYhxlhxAyLy98qy5atcL0c3DtNFcEBTWWN\n",
       "GHjK0mUmTeebgy5soZcWpkio+keJwomFeTQfxHMeo9swBcNcjQak2avOTo4Nf95eAQYruHaaLemb\n",
       "RW9ewr5LLFVVUoaEG0iPmTo4NkqS78bu1EhqmUEFcUASxPXGtyCW9AhPEM2oriZgD1jHruG6rw1J\n",
       "IZc9MLxbTeudATmLvVMc7BUdMdYe+1K/ko2T4jU9EDq/gZDhz0Vsn1Hj96ND8POUR2Ye82qf3BVg\n",
       "IdRL0VPZ5IrmNimqmk3dURanf/Tp6W5oCzUUgE9oZNxhLkRWy6wdIACxxjQBz5R1ZePIbZD4azTa\n",
       "Y0JT+cYROnD8Iw0SzesO4l6p3AAHceAmF0CgnTLjFVw2QWrH+t0R1N5A1AAyB/QGWHueqaIk0zyt\n",
       "cbQ0BEQzIGuw/0vQLIxj3vmaRWrk300vzCZXj8VjrCCQGIw+EtPtHFlcJ1hS6GnofBl2/gZTmA2o\n",
       "yUt0NI2tbKVSGnb+UkRWwBmUnVdcBvw3eRE6NVNoSS1FXB902Khr5mr7hwnKFxFlYPETFuP5vnyj\n",
       "qORzw1FAt6t3e46k5Aj0ZagxsxIKQ3Ggc5uuCXb/xtIdb1/bH4HR1hYHAz750a5gQm2wenOp00qT\n",
       "q5MK/nTctr4iV87NLZmlRqy26nUmYHAQu3jf/3fWTa1d4nrXJgSqNLpx99VWNuXNaU2rxC7T1icN\n",
       "zAJVCl3fsErrtwwWocc26XXDAoMIIEZ1c1YMxigNkE060dbRc+sX9og2Ob5qj49diJShs0NzXcjL\n",
       "9VI06yzqir77zzVzec8US8XMJqFiOikSHovz69mofGs+AHMq0sOTEcVIpQ+pKafYXTdp8nhHL2uY\n",
       "EQA/s+O9EkfacQ8X/2hEuvbGBam7ydi7DRKZMS+DySi1XHYt06D9zFVWdzxw+MF2hQlbFDDKo6oy\n",
       "MtZcM3PY7+GZsrveP8/EVBu8KtVn1fuyF2bcbR5Qj1aQqDFSaUnDIsLckwvOoRGNoQfU+i5J//of\n",
       "vwZPbnbhqUtFvbzUCI9KPOr2Wz53OL4Y7/yWX/ALn+JcQsxlIY2w8DcZ8Cm0NkLW2yFADe0mHhno\n",
       "+OiEEm0/vZAXfQPFFYnh3Q6tDEQVimq6ga93S2BgohAk5Da/eQJInbVdrCMjwwgl+jGjTJzbOIzK\n",
       "N6cUdzI+BlX4cm8C9CC0vbpe+H/o9QWdqO5eHYEfD6TCCjQhJWRz1cgzAoPd5/1Ff48Vnmdtk7fW\n",
       "ePcMaGe8P8IbECO1O7lHVJDaLUvp4h08vf9OKyikdW3Y0uW5abkiBeHduuh+d4q/JLc6Fmk+l1AJ\n",
       "4tEiUEB0rXxtCD6n0YO/+aaspaAMRxNSpdbXgk7LMhRf/uDNNnZH6n+1O01Hj8e/fMNS0s331HZn\n",
       "tBMec0uuEin3wBDkXxf72zVkE3THu2SFQsTDhvodDDm0Mdb/YVbNlNbjHamSz/CX+7vLzLwXNgXH\n",
       "qgHD+eD0LdmJ40K0nqcsjkkmAjT582xW/VFIl2lkQkXCiyzCMyoje1wLBghsMUcLggDHajM7l3jf\n",
       "uUxtsqRTv665wnNXUUceTXpGs9FNZFLZ8Dhq04yLq5rR6lIzX09JSAe8k3FBT54aMHlx/xDphRkI\n",
       "QKDJSE5MvB0BbVSLnkrm2NG52NKsCXvqPMijEjuGQbmtJZntGO8jmcU3aME5D9vUdECOW9Paja94\n",
       "9eRt/nTfw3flZFlWAqXMMtzn9jYAfQSFUN5kcZA2lCd8tynY0WajIlc524HpVOLEc7ketUilpqw8\n",
       "hTbdCgd50DSlBf4JA8B4D9q4TcTkjfGGfL3EAOPpkgJgQHNzA7dp5akArDweMIl6PG9jW7tjCFDh\n",
       "TMAMkTLkEWYqkih9UPl/8NYn5nwEmZ/3d30RL5P/+x8Dvy02jWNr+vZc2pu7Bh7KWFo943hadHXi\n",
       "VzSBdsu1HqkkyH071tzb3WrBcgsp01jr6fH3JS5J8eHS2qvATe4W7TftY5mXB409G04O9yleYriF\n",
       "o9hKQXILKdNY69lKoGxAmbg/8kWCu+oTene5wM7UsIeaYkuTZVONVEZ/lCEI7XTN3o7PScv5hjEG\n",
       "L1CvvnB+AAPCHKZYax7U3KOSJv068igWCWJfblNpY47aRDqql6hI4rffYcafahzngUaqHNx9TNvZ\n",
       "TYdZXqKNeax6KSvR20iHU8d6POSkn+w40+1DpNf3xCLcfUzVLFKBcSB6KSvR20iHUnJt+8mpl1wW\n",
       "1e1DrTh3cGq4+pmyoJyUZoMBU7pejRkBso/0RY+e+CGapsaPUsv25iZK6K6GZ9ccyU7pUERRL7Kw\n",
       "5mOS77N791Q7prO9qHMYV7fZucTtqj5PcgaiGVc7s4DmgCooKg+q9Z36Ov5cjvq19/jW87LZYCI9\n",
       "J8y1Q0fEucIuImGFKUUjYcKrEiis39seI/0zb9lDu9NYSS0TLeJxp+kA3u2kuWOVWwpTkVyBqsSY\n",
       "Ey/2x4j/UFkhcO701hJLRRdfYun6QDe7ah5bB/Dta/B1J1pBZcvv083HOkim65EwKoqqW2IVng/N\n",
       "x5KoCXbTAQL/+4sxbaV1CR6XxUbY+4KilAIyR+5CPUGfRXry5PCG6I00m6dRgltLpHE/GztukTTl\n",
       "pQzgESPdQWZjLDPpWaPohb5FOkx4npsn6SKonEP+ejY0KzlK6BRdbcdCPseu/dkx0iZqsDtVX1dY\n",
       "TVYtSIhX9MseaLBntYODWTT2AxUW5uHZXNzZ7cYXkSIXwf8IrenbVuiYP1wn2CKRIJ87YzE6UO4w\n",
       "pjm4dldr63j3SsLSJEL4P+tCVftq3RMH67j2VlMkE+dsZi/grRQdqu4dlc85vsWSJNQhfB/raGyu\n",
       "T009cFmsN/TTJBPnbGY2lQGBJqDPvZXizTpm/QMYV8KjArf31ZPxdYlkHKXz+Vq1MEDX4yCVgmJk\n",
       "WD1VyP1ZLNxjnnBgzknJ1zfzTt52qLkO7fts4hDeHr/jTYTb7hytR8hk7tQBz/+t0JamJoD2lbeT\n",
       "soJHvlUh9E1Ivlzu3X++MpI3KZ1zkWEDDACXW6Qth+b/9GqNKRuNlsRMscxyP9rfVmHWcRIXxbd6\n",
       "SPL6ZZor4eyp+3ilNrEOPh2hbTi2iV8y1R8UrC2iD/EWm7jolNIqW5LesHE8nGOGQqc21UdHD4jI\n",
       "qn9APbTHKR3RoIUxrCpgoQnbJwg5DqGKXc8MDp4O+6nOdwx+HSokr/HoxumtPI2wg1D41nvqZlf+\n",
       "5TG2ypFExdiY4Trg27hTeKdnK48mv0HvjZPs7QT8w4VAeQCgW0+l8D719gmvc4kkIj+8KN4HGaKq\n",
       "6Ia+fPVLYvnwesd4opOjJPMcH8t5qyB+jol/swVMf772XhY9zfYndl7wGlHSMcbR5Qkw46ggj4EG\n",
       "lAJ4tEiUD/juRjaEH1PotKf/fn1GdkEkqyyJDjK0IDei930qL0XdsIWGK7XDUnjv7mJfN2CAiQFU\n",
       "LnAeuD7ACHkw/9HvdsFPSiq1YMxihI2dX0yWvi1xQLAAzPEkCq+Nc87wJBFYvjbxUABzjSYELZb9\n",
       "0XvTE3FmK0BwR/91vkoxADcdFpOu6jjzT+j55qCiKnnY6LJnW0V89bOaxR8WQVL0wGrf7pNcIlqi\n",
       "b+waCiID1vu2oN2PkEeycQAJyvOwlOuOimZ8G927HxPpf7zANFZRjYh7QAc4kZYl/DsH8i0bxqUN\n",
       "bJrDhNQJn7p6vcmi9Qem2eUJHHxLY4ZFhbkmF5mHMxtCD6n0Y+f/4T/FpSQT5bkg7oJXrE8kft63\n",
       "2R8y9ucxFEuoeCH+08C1xJhOaGpKagLYSGcFyfsMIUZWTMNVRwG+GwEUqd/Z1eyIYZUmWDpGXkfa\n",
       "cYTSvX7h3ZB5Z6Uedgk2xzOi18zUCwHIvpxijWKiUv0G7ooNc5rpFlj/bHjC1HJzJ13ylHxSuylR\n",
       "G9vEYM2GwxRwuCAQ2x87HQFbOizCq3Si3t1wN+n6GER2TXpZXMWayKWz4HDbfdRN53D+OAf+vVcg\n",
       "aK35np/MQeH5GWJfw7B/QllmS4LuMPBraL/R27scxOW4VngSlddZIGMd8psgQmbpK/DytnwsAIT1\n",
       "8skH6CyBcV+WjgKfD8A15NGFlTrGgvO2L2Dz3uccTyUI65z+H174kW/Lr2n9uurQb/MsgGr6SG8M\n",
       "zB65sBknbhLQoCg5pSz8d2Cafbe7RWi1TJT+DlC86JbRf10sotos+FZ1NhG2aOrlKhfnyB4Zr7gs\n",
       "rLkFjJi9Z8sXN5uSyAj9lb8lLXjdV1qUT367u5ofKdDOvrHJA/Bd4KGNBX5IHvlhLUIKntI+IEMt\n",
       "mXWvqcKq8/URJ6xIzVFKcRs3UzQG84Qnbf+kr4bGbAzoP6PAf+qwGmUGd+4IWs+NhYMjV3aYCrHD\n",
       "+VE7JKOVuxgez36XWT/8l4b2plWXilbWqGJItx8X6jyOYbixY2+SZwN+0cNGMeJ66Kw5iGOooelO\n",
       "4qrtsCmmQADPhYx8O5Q1uSSJQfTkzj0RIHJ+2A+lzhyzYkGVmgmuMhqUgVzdI4ZOVARdflQ6y819\n",
       "20rQ2QxR8Dk6EeWv24MS4irlZoJrjIak13ymvawAeG6zeu7uar+N4yWEwW/+vHBLBTlox3sNY+I8\n",
       "T4RIvX+tX4CWWoguIe3q5pGJ2DV8QNif8XW+WgdKMcN5PLTLyTHWQ6JKEk/JGTfpYNDjT7UMDmAw\n",
       "4UGWI4/oDIBJK767ykZgHuTR27vEqp9Comis1qwTh3QTwNg2OuaWWg/fJLWUQdjowZuAD4xlJt5h\n",
       "+wZ94joJWCPAQ5J+HNKETEBkAlNFBcakZgHuTR9CNxoFsGfeI6CVgp1+oV6p/+4oeq08X7tLgztm\n",
       "thdV7oLGKCiDIFKyjatYylNn9UVXDueThPX9nxwu20icF+Lf8wNRDMwj4Y8jg7uZFnkWZajYY2oO\n",
       "QRFDCn84OdbHWfNJHKmm0UkiVIyRxYmRbHcjzrykdDr873Qu2WjpFuF0mEPnnAv0sx48JyPTwVoh\n",
       "2YXBVDfRmffFJLm30F3fCNVaL0HVjybjEbrECKZBxT3qupwcyeIFDUyXXUri5iAU3EG1lz8jWz7V\n",
       "GrXv8yPs5t9yqkVLPfbL/Kc3JHpv+Nc3G4BWBw+g1HncyCajXR0XF4mbJgNAdfyK8AWkF9pLHg/3\n",
       "buG0s1XFeW8o1Twl+raRADRU6SXkBuUdpVNDKT4lmE1zP3+H/c9pUbNiZ8+dG9lP7kzM0b+ehc/N\n",
       "7eWjPxtDPsyrKTJAfRp1HVP1Fb3hWHseuTesHBAZDNjCWKATZIy+FYTwrTttsgSA+eD/+b61I1Lw\n",
       "Gc6P/jdnslEgkk56ceZuaHBCb44sPWvaXvyzEY5jzbdF+MN+NEY3+UWuHRVZmnP2w5Lf2GOipdUu\n",
       "a8IwMVl2lFTYLkuvAzw6JjmR9KppGUbXdZy2N4RHiFhiK6q321CzX5oybIUWUGxM8lI8rdkqetIj\n",
       "DdFtcwUWa8Ltd4QurwtVdD9x2ECUNM5eawUEF3JrqXJlkNlZq/Oc6oKK9bdzZLJbAoXlk8EpWWpD\n",
       "AEy7/sixku8GVGEmEEekf30alavHe+EEfY9nR7L3Aga9tefG9E8WWgzvc7oNknQcat3pV04xF1Qk\n",
       "rcTg+HYk1Uyxr22KmLy9zVJGDj+9IWb6k2zkNxk+gohvtPgnFIJDdfpf9LDkK5mRocB9nz79+Wfh\n",
       "ZREFNwlNxr81MO+l+TTcLk57OTesN/Nx/1FE7crfpQtgqklosyDLlElhAcCmXqtEEhyCkWAMQW6d\n",
       "Z41qxjnnabfT5UeZkFSXTqJV026UqmTyvF0cLPVHY7QevkHweCPdsrw1mz/M4T/rEJ/TubPb9ipN\n",
       "nzHskV1wZSJPGtTlBea4V8tq1/Qg7lDZu1N/x5Q83GGwizsKnJl9iTSqPYso1f+nDL/2iUCsUaA+\n",
       "qgvObrbidmyS1kHLwC4JdY4+OQeZprVOAee333Xsj8iYtPgn5TbaAWyEtKrjM+qCRcctzasTXs1a\n",
       "bUHQOVrznK2Oeab18ZfVq8y82pNg3Y0hgVC5ThNUtMaEePzaRleqNTCf3BqSVwkHfZf1U3kT2nzq\n",
       "xjDXIbT9ytxyrInWZQiyYkncsbe1G1ZadTAnzxMeC0iaOEVHnXP8FMoH/dz796fuHfiTCwrMWtOT\n",
       "Hy8CUwdJ8iErIvPdiTem8Su0iwgNE2ak2W58hM+0NN4VPS9RZ9vklQwwqkG0ShzZiR3WLtLSGHRF\n",
       "IL6hhcDW9yP0tfKJVqCkMHlea29eGSPPeNN8SZrsZhmUNJddRR+DhVX+XXw4w4l/RKLpdWIKja+B\n",
       "QkzGsLNqrxeOZ/OEF462ikYYaVScDkqREIz1j9oCB6WM+GXlip5ickIE52mNjMU9JxUL5i4x9bd7\n",
       "ank93UoptXhSCV5jrWBqq6UqHVNKr+sqfiGyYcLpqSbebzIEAMdOf1LqUSsfWJT9e2gr7YwZAAAB\n",
       "GEGaJGxD//6plgDKJMSAD4dBmSrSOhI/jJ++TcfriUt/7PgSxdtmkWGZZGVuVQ/NLr9b+vv+ac1d\n",
       "wM27b2/gogPJNoYEDNR1Ue8a/0bjLeg9zdN9V9xkjdKbchvXlf7QnY/mWNgAfEpixYH1gcSrGT6u\n",
       "g6yRPiJHeuGxm24PtOWwnJSoTAWT/y5LlN5mhlFJ5wMk/8M63k+ZgnV8F2I0Zjr7PI63LkBtpdGZ\n",
       "nkyzpWhs2w5SE6ojtJc9sDsYT9hdVrOLlI3aC/bYNgudiK1nOYjnqGaf/Ln4o0qJ03pqya6x8VFd\n",
       "RR8OtyiMAABVjgWArhy2MZIuTTGVbDilSvBr+f4oNrxRIeQAcx6IsC9WQ7NbByhAwFca3AgAAACD\n",
       "QZ5CeIZ/AG6J7gIiPdmGxgvj6Sht+wxjQIcjSIyo4RXB0xWl4AOSIZuXMCpeR1eG2M5Kl03pn4r4\n",
       "CXEH/c7LvcwvCUd/e0dhlJPWzBl8SHJNSL0Q5fDeBr1O2OOW9CPPJOhqDxhr41fU+yikW3kxAJPU\n",
       "+VfgkZ2j13GOJ01ecY4+xW0AAAApAZ5hdEK/AM1/ysFsODmivynjihOBZyInQZDOS1wBQrL87Uy0\n",
       "16cAn5AAAABJAZ5jakK/AM27UHcpcePbCmncW/XUAJkWm9DW0icp4o8XgzqU8x7AiqefGTGidsAW\n",
       "7J9b4YJiMZL/sLF6eY6UaqNHYE7gV4dTdwAAAPdBmmhJqEFomUwId//+qZYAfNdNL55nhnfUguy4\n",
       "AJySZqftr7BUiAYhc/2EUlhgaDmJXS1Tv81Su9xQoVF2PZenBpgF+f8V3kWo0Zr9G0VvQJgoQZ3P\n",
       "TpqoR5ktSMcc4u6r6hza2dynEBsfPkoAY46OWif655teqLm0dcQn68DOyZ/O13TC39KkC9Pvcn1M\n",
       "SlXacZEeP1U4+VljBk+f8vT7C2V/HPPubR3nsm6xtbHR9rsRy0GgmBcH5NvZ+apXdxXT623961gn\n",
       "01e0kTcNjib6XvvbeL6TJrYLGftzLWs8SO/4E50ZiCubmJloBJbNecWXEcbaaC8hAAAAeEGehkUR\n",
       "LDP/AG5/BrdzerLCyKBeH8vu+tDC45wAbDP7oyhxmx0nQd92pgHCpnCQaidFyYv+M+yfaeaS5SUQ\n",
       "JykQLmpkkdQLz5hiOZ3j6ITWtJC1QzuacD2ZOgnJh55yB3pvKiGu8HLLZDyxZuUDVlDACvAIkjnH\n",
       "gQAAADMBnqV0Qr8AzYB/7Kw+7xmwOf0jueWgBbxyXd8qP+96+2lrudBHsTr4YOKu/I+MPX2T+YEA\n",
       "AAA8AZ6nakK/AB22gVS0fS+lADdedHYz1XvOGlNxgHWmILq8w4gaelVZhFfwAOiSKfHmyvmM/30v\n",
       "VRh97YJuAAAATEGarEmoQWyZTAh3//6plgAEJaInCxACEN5h1FPQrk6uK6j7nGQcXc5uQ5eOEOvg\n",
       "baVRPvpCQhSXIrauHSJfpkgAKHaXrdRZX/vsBqQAAABJQZ7KRRUsM/8AD+MKPDTXcow7X8odl8wA\n",
       "Sbd1ibZlg15SktBdf+TIQ4FaPrKb7H/LDtVaCbIQJ64md/9R90RVYfqi2uhMlz/VQQAAAB4Bnul0\n",
       "Qr8AHa4xRUVq0jwpzmrF0kX37S/Ty0YXKtYAAAAgAZ7rakK/AB22gVS0hBrKduNWTyA6N590vDGr\n",
       "p1NrbcUAAADXQZrwSahBbJlMCGf//p4QAB/O09/ZAA17uFpJ9qhz/O6+Mz5oktY2kBh8LN9tJ/vm\n",
       "ybpGaWOW0Z01x/s9ax5tXRUmq5tMUM0ENCEbecgl6azoQIyw6ufzutsgdjSACA21wajORQnopWNS\n",
       "U+dQXlwa8JNM6uVkful/KKGWsj/qY8KyyCk2UoUHdvkNcZTQYtMrIixkiGzS6vbNsyB10RO93Jz6\n",
       "pZnLv+dZDpqQeDjm4VfHJttQzzaO8eX/auUVNNa54HYrU/LqQBaJGnxxb3PYQUdrHKCgd0EAAABJ\n",
       "QZ8ORRUsM/8AD+MKPDTXcosgjgYUwANrtYzm8Kv36FMm/Ely+q57Be1zWRh5HgcrYvsGiQu6A1sC\n",
       "tPVcUXutVDxnqtLr71J8cQAAAB0Bny10Qr8AHa4xRUVp6kCWbBWQlsssuP+6lQYMqQAAACsBny9q\n",
       "Qr8AHbaBVLR8J5uugwAbpVZZ/B/tIATGqjQA5pL9fC4WD758dwWUAAAASkGbMUmoQWyZTAhn//6e\n",
       "EAAfL19/Oiw1q8RGQAbCdslZqUjSYp+nsJo1xUF/O/n6/QHuVOaJm61xipeGFHe113PRPfIik/W7\n",
       "SUEbAAAANUGbUknhClJlMCGf/p4QABDmZ5XLpwAIhppyV2yMaFO1Ou3hH0MLpCwfcNj6fKy8OK3i\n",
       "aCbhAAAAIEGbc0nhDomUwIV//jhAAEGdTqmr+fkWVydDInEWJA44AAAD8W1vb3YAAABsbXZoZAAA\n",
       "AAAAAAAAAAAAAAAAA+gAAAPoAAEAAAEAAAAAAAAAAAAAAAABAAAAAAAAAAAAAAAAAAAAAQAAAAAA\n",
       "AAAAAAAAAAAAQAAAAAAAAAAAAAAAAAAAAAAAAAAAAAAAAAAAAAAAAAIAAAMbdHJhawAAAFx0a2hk\n",
       "AAAAAwAAAAAAAAAAAAAAAQAAAAAAAAPoAAAAAAAAAAAAAAAAAAAAAAABAAAAAAAAAAAAAAAAAAAA\n",
       "AQAAAAAAAAAAAAAAAAAAQAAAAAGQAAABkAAAAAAAJGVkdHMAAAAcZWxzdAAAAAAAAAABAAAD6AAA\n",
       "BAAAAQAAAAACk21kaWEAAAAgbWRoZAAAAAAAAAAAAAAAAAAAKAAAACgAVcQAAAAAAC1oZGxyAAAA\n",
       "AAAAAAB2aWRlAAAAAAAAAAAAAAAAVmlkZW9IYW5kbGVyAAAAAj5taW5mAAAAFHZtaGQAAAABAAAA\n",
       "AAAAAAAAAAAkZGluZgAAABxkcmVmAAAAAAAAAAEAAAAMdXJsIAAAAAEAAAH+c3RibAAAAJZzdHNk\n",
       "AAAAAAAAAAEAAACGYXZjMQAAAAAAAAABAAAAAAAAAAAAAAAAAAAAAAGQAZAASAAAAEgAAAAAAAAA\n",
       "AQAAAAAAAAAAAAAAAAAAAAAAAAAAAAAAAAAAAAAAAAAAABj//wAAADBhdmNDAfQAFf/hABdn9AAV\n",
       "kZsoMhnQgAAAAwCAAAAUB4sWywEABmjr48RIRAAAABhzdHRzAAAAAAAAAAEAAAAUAAACAAAAABRz\n",
       "dHNzAAAAAAAAAAEAAAABAAAAoGN0dHMAAAAAAAAAEgAAAAEAAAQAAAAAAQAACgAAAAABAAAEAAAA\n",
       "AAEAAAAAAAAAAQAAAgAAAAABAAAKAAAAAAEAAAQAAAAAAQAAAAAAAAABAAACAAAAAAEAAAoAAAAA\n",
       "AQAABAAAAAABAAAAAAAAAAEAAAIAAAAAAQAACgAAAAABAAAEAAAAAAEAAAAAAAAAAQAAAgAAAAAD\n",
       "AAAEAAAAABxzdHNjAAAAAAAAAAEAAAABAAAAFAAAAAEAAABkc3RzegAAAAAAAAAAAAAAFAAAHocA\n",
       "AAEcAAAAhwAAAC0AAABNAAAA+wAAAHwAAAA3AAAAQAAAAFAAAABNAAAAIgAAACQAAADbAAAATQAA\n",
       "ACEAAAAvAAAATgAAADkAAAAkAAAAFHN0Y28AAAAAAAAAAQAAADAAAABidWR0YQAAAFptZXRhAAAA\n",
       "AAAAACFoZGxyAAAAAAAAAABtZGlyYXBwbAAAAAAAAAAAAAAAAC1pbHN0AAAAJal0b28AAAAdZGF0\n",
       "YQAAAAEAAAAATGF2ZjU2LjQwLjEwMQ==\n",
       "\" type=\"video/mp4\">\n",
       " Your browser does not support the video tag.\n",
       "</video>"
      ],
      "text/plain": [
       "<matplotlib.animation.FuncAnimation at 0x7f6c45687c50>"
      ]
     },
     "execution_count": 6,
     "metadata": {},
     "output_type": "execute_result"
    }
   ],
   "source": [
    "fig, ax = plt.subplots(figsize=(4,4)); ax.axis('equal'); ax.grid('on');\n",
    "\n",
    "line, = ax.plot([], [], 'b', lw=2);\n",
    "\n",
    "# initialization -- called once\n",
    "def init():\n",
    "    gndh,gndv = [-10.,10.,10.,-10.],[0.,0.,-5.,-.5]\n",
    "    ax.fill(gndh,gndv,'gray')\n",
    "    line.set_data([], [])\n",
    "    ax.set_xlim(( -1., 1.))\n",
    "    ax.set_ylim(( -.15, 2.))\n",
    "    return (line,)\n",
    "\n",
    "# animation -- called iteratively\n",
    "def animate(t):\n",
    "    j = (t_ >= t).nonzero()[0][0]\n",
    "    h,v,th = x_[j,:3]\n",
    "    w = .25\n",
    "    x = np.array([-w/2.,w/2.,np.nan,0.,0.])\n",
    "    y = np.array([0.,0.,np.nan,0.,+w/3.])\n",
    "    z = (x + 1.j*y)*np.exp(1.j*th) + (h + 1.j*v)\n",
    "    line.set_data(z.real, z.imag)\n",
    "    return (line,)\n",
    "\n",
    "plt.close(fig)\n",
    "\n",
    "# call the animator\n",
    "animation.FuncAnimation(fig, animate, init_func=init, repeat=True,\n",
    "                        frames=np.arange(0.,t_[-1],.1), interval=20, blit=True)"
   ]
  },
  {
   "cell_type": "code",
   "execution_count": null,
   "metadata": {
    "collapsed": true
   },
   "outputs": [],
   "source": []
  }
 ],
 "metadata": {
  "kernelspec": {
   "display_name": "Python 2",
   "language": "python",
   "name": "python2"
  },
  "language_info": {
   "codemirror_mode": {
    "name": "ipython",
    "version": 2
   },
   "file_extension": ".py",
   "mimetype": "text/x-python",
   "name": "python",
   "nbconvert_exporter": "python",
   "pygments_lexer": "ipython2",
   "version": "2.7.12"
  }
 },
 "nbformat": 4,
 "nbformat_minor": 0
}
