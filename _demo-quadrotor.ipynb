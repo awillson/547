{
 "cells": [
  {
   "cell_type": "code",
   "execution_count": 1,
   "metadata": {
    "collapsed": false
   },
   "outputs": [
    {
     "name": "stdout",
     "output_type": "stream",
     "text": [
      "Automatic pdb calling has been turned ON\n"
     ]
    }
   ],
   "source": [
    "%matplotlib inline\n",
    "%pdb on\n",
    "%run _547"
   ]
  },
  {
   "cell_type": "markdown",
   "metadata": {},
   "source": [
    "# control system model\n",
    "Consider the simplified quadrotor model\n",
    "$$m\\ddot{h} = u_1\\sin\\theta,$$\n",
    "$$m\\ddot{v} = -mg + u_1\\cos\\theta,$$\n",
    "$$I\\ddot{\\theta} = u_2$$\n",
    "where ($h$, $v$) denote the quadrotor (horizontal, vertical) position and $\\theta$ denotes the quadrotor's rotation, ($m$, $I$) denote quadrotor (mass, inertia), $g$ is acceleration due to gravity, and ($u_1$, $u_2$) denote the net (thrust, torque) applied by the spinning rotors.\n",
    "\n",
    "If we measure or observe positions ($h$, $v$), e.g. with GPS, then the control system model is\n",
    "$$\\frac{d}{dt}\\left[\\begin{array}{c} q \\\\ \\dot{q} \\end{array}\\right] = \\left[\\begin{array}{c} \\dot{q} \\\\ F((q,\\dot{q}),u) \\end{array}\\right] = f((q,\\dot{q}),u),\\ y = h(q,\\dot{q})$$\n",
    "where $q = (h,v,\\theta)\\in\\mathbb{R}^3$, $u = (u_1,u_2)\\in\\mathbb{R}^2$, $F : \\mathbb{R}^3 \\times \\mathbb{R}^2 \\rightarrow \\mathbb{R}^3$ is defined by \n",
    "$$F((q,\\dot{q}),u) = \\ddot{q} = \\left[\\begin{array}{c} \\frac{u_1}{m}\\sin\\theta \\\\ -g + \\frac{u_1}{m}\\cos\\theta \\\\ \\frac{u_2}{I}\\end{array}\\right],$$ \n",
    "and $h : \\mathbb{R}^3 \\rightarrow \\mathbb{R}^2$ is defined by \n",
    "$$h(q,\\dot{q}) = (h,v).$$\n",
    "\n",
    "    [1]: http://dx.doi.org/10.1109/ROBOT.2010.5509452"
   ]
  },
  {
   "cell_type": "markdown",
   "metadata": {},
   "source": [
    "# Simulation\n",
    "To simulate the pendulum, we first implement Python versions of the ODE control system model; it'll be computationally expedient if both $f$ and $h$ accept $t$, $x$, and $u$ as arguments even though mathematically they may not depend on all three:"
   ]
  },
  {
   "cell_type": "code",
   "execution_count": 2,
   "metadata": {
    "collapsed": false
   },
   "outputs": [],
   "source": [
    "g,m,I = 9.81,1.,1. # m/sec^2, kg, kg m^2\n",
    "\n",
    "def f(t,x,u):\n",
    "    q,dq = x[:3],x[3:] # positions, velocities\n",
    "    h,v,theta = q # horiz., vert., rotation\n",
    "    u1,u2 = u # thrust, torque\n",
    "    return np.hstack([dq,(u1/m)*np.sin(theta),\n",
    "                        -g + (u1/m)*np.cos(theta),\n",
    "                        u2/I])\n",
    "\n",
    "def h(t,x,u):\n",
    "    q,dq = x[:3],x[3:] # positions, velocities\n",
    "    h,v,theta = q # horiz., vert., rotation\n",
    "    return np.array([h,v]) # horizontal, vertical position"
   ]
  },
  {
   "cell_type": "markdown",
   "metadata": {},
   "source": [
    "Note that $q_0 = 0$, $\\dot{q}_0 = 0$ (i.e. zero position and zero velocity) is an equilibrium when input $u = (mg,0)$ (i.e. zero torque and thrust $mg$) is applied:"
   ]
  },
  {
   "cell_type": "code",
   "execution_count": 3,
   "metadata": {
    "collapsed": false
   },
   "outputs": [
    {
     "name": "stdout",
     "output_type": "stream",
     "text": [
      "x0 = [ 0.  0.  0.  0.  0.  0.] \n",
      "f(x0) = [ 0.  0.  0.  0.  0.  0.]\n"
     ]
    }
   ],
   "source": [
    "q0 = np.array([0.,0.,0.])\n",
    "dq0 = np.array([0.,0.,0.])\n",
    "x0 = np.hstack((q0,dq0))\n",
    "u0 = np.array([m*g,0.])\n",
    "print 'x0 =',x0,'\\nf(x0) =',f(0.,x0,u0)"
   ]
  },
  {
   "cell_type": "markdown",
   "metadata": {},
   "source": [
    "Let's simulate the result of applying a sinusoidal thrust, and plot/animate the result:"
   ]
  },
  {
   "cell_type": "code",
   "execution_count": 4,
   "metadata": {
    "collapsed": false
   },
   "outputs": [
    {
     "data": {
      "text/plain": [
       "<matplotlib.text.Text at 0x10c58fbd0>"
      ]
     },
     "execution_count": 4,
     "metadata": {},
     "output_type": "execute_result"
    },
    {
     "data": {
      "image/png": "[encoded data removed]",
      "text/plain": [
       "<matplotlib.figure.Figure at 0x10c4aea50>"
      ]
     },
     "metadata": {},
     "output_type": "display_data"
    }
   ],
   "source": [
    "dt = 1e-1 # coarse timestep\n",
    "freq = .5 # one cycle every two seconds\n",
    "t = 1./freq # one period\n",
    "q = [0.,1.,0.] # start 1m up off the ground\n",
    "dq = [0.,0.,0.] # start with zero velocity\n",
    "x = np.hstack((q,dq))\n",
    "\n",
    "# input is a periodic function of time\n",
    "ut = lambda t : np.array([m*g + np.cos(2*np.pi*t*freq),0.])\n",
    "# lambda is a shorthand way to define a function\n",
    "# -- equivalently:\n",
    "def u(t):\n",
    "    return np.array([m*g + np.cos(2*np.pi*t*freq),0.])\n",
    "\n",
    "sim = forward_euler\n",
    "t_,x_ = sim(f,t,x,dt=dt,ut=ut)\n",
    "# sim() returns arrays t_ and x_\n",
    "# x_[j] is the state of the system (i.e. pos. and vel.) at time t_[j]\n",
    "\n",
    "fig = plt.figure();\n",
    "\n",
    "ax = plt.subplot(211)\n",
    "ax.plot(t_,x_[:,:3],'.-')\n",
    "ax.set_xlabel('time (sec)')\n",
    "ax.set_ylabel('position')\n",
    "ax.legend([r'$h$',r'$v$',r'$\\theta$'],ncol=3,loc='right')\n",
    "\n",
    "ax = plt.subplot(212)\n",
    "ax.plot(t_,x_[:,3:],'.-')\n",
    "ax.set_xlabel('time (sec)')\n",
    "ax.set_ylabel('velocity')"
   ]
  },
  {
   "cell_type": "code",
   "execution_count": 5,
   "metadata": {
    "collapsed": true
   },
   "outputs": [],
   "source": [
    "%run _anim"
   ]
  },
  {
   "cell_type": "code",
   "execution_count": 8,
   "metadata": {
    "collapsed": false
   },
   "outputs": [
    {
     "data": {
      "text/html": [
       "<video controls>\n",
       " <source src=\"data:video/x-m4v;base64,AAAAIGZ0eXBpc29tAAACAGlzb21pc28yYXZjMW1wNDEAAAAIZnJlZQAAF09tZGF0AAACrQYF//+p\n",
       "3EXpvebZSLeWLNgg2SPu73gyNjQgLSBjb3JlIDE0NiByMjU1NSAwYzIxNDgwIC0gSC4yNjQvTVBF\n",
       "Ry00IEFWQyBjb2RlYyAtIENvcHlsZWZ0IDIwMDMtMjAxNSAtIGh0dHA6Ly93d3cudmlkZW9sYW4u\n",
       "b3JnL3gyNjQuaHRtbCAtIG9wdGlvbnM6IGNhYmFjPTEgcmVmPTMgZGVibG9jaz0xOjA6MCBhbmFs\n",
       "eXNlPTB4MzoweDExMyBtZT1oZXggc3VibWU9NyBwc3k9MSBwc3lfcmQ9MS4wMDowLjAwIG1peGVk\n",
       "X3JlZj0xIG1lX3JhbmdlPTE2IGNocm9tYV9tZT0xIHRyZWxsaXM9MSA4eDhkY3Q9MSBjcW09MCBk\n",
       "ZWFkem9uZT0yMSwxMSBmYXN0X3Bza2lwPTEgY2hyb21hX3FwX29mZnNldD00IHRocmVhZHM9NiBs\n",
       "b29rYWhlYWRfdGhyZWFkcz0xIHNsaWNlZF90aHJlYWRzPTAgbnI9MCBkZWNpbWF0ZT0xIGludGVy\n",
       "bGFjZWQ9MCBibHVyYXlfY29tcGF0PTAgY29uc3RyYWluZWRfaW50cmE9MCBiZnJhbWVzPTMgYl9w\n",
       "eXJhbWlkPTIgYl9hZGFwdD0xIGJfYmlhcz0wIGRpcmVjdD0xIHdlaWdodGI9MSBvcGVuX2dvcD0w\n",
       "IHdlaWdodHA9MiBrZXlpbnQ9MjUwIGtleWludF9taW49MjAgc2NlbmVjdXQ9NDAgaW50cmFfcmVm\n",
       "cmVzaD0wIHJjX2xvb2thaGVhZD00MCByYz1jcmYgbWJ0cmVlPTEgY3JmPTIzLjAgcWNvbXA9MC42\n",
       "MCBxcG1pbj0wIHFwbWF4PTY5IHFwc3RlcD00IGlwX3JhdGlvPTEuNDAgYXE9MToxLjAwAIAAABAJ\n",
       "ZYiEADv//vb8/AptFl7dP/9P+VxN2UIE1zAADVu68BwPRcHAE/AfOkzKGfQEnj7UHzZgYf+c7bkb\n",
       "upoSUv88rkWnpGsg3W//CkxdG3/reugBR0BwCdsGv5vxSWQoVrDmIqQlR1bRH4IXyydi/pI02/gG\n",
       "OZaIUTQjqykYZ8qgAmoOCCYrafbbgAJOstQjuBjSz9j0EECwrSpYZW2Y4Af/wnf6ymMFz3ewCtPQ\n",
       "JHvdyGlf9XpEGC6OAEy3xVH+g3tVN5u0yBibXhbP4+SewxSLy2xlsT/VWUWPB1p9/P+IAXDg4gou\n",
       "ComXvX3PNqxxrdkXvzsaRzEnREnmUV271KR9jp9e8YgZMz5uR0RNKEDbGA9VB88T2/+//ZuavAjl\n",
       "JYQfk4HfRJ4pqBcuP3YlmzgS2sXgkIznyHhD1ALvMle3y7Btxo+QbKttsAgaCkuEyABY/IgdSRK9\n",
       "89t6qqcLO3WjWeX5KLc6L/DU6KugrDXMolAV/aIkrhXv2S+fU08JC4WMSgMQnNmBZGuxonkMIAl8\n",
       "SxZpVsTxVPnRHKSDYjHO2HohWYOHwpiJCS6Hw4dd37TCa8AXrVi0aYGH3flGQMSkoagd9l8B5Bih\n",
       "v9xRGY1aUf9YQIL8zLIXVX57DgEXkNDuseq7+W9vXRLzQcwzCTNsweFcWFWXngBGoEN7x57KMI9G\n",
       "1Uod7pPXMhqqoXj/f4oJ1IRXG3GCS+G9TPORUGDP7YOI3n61YIJj/y5akgHZ2rAxqZfUrEQJn5uu\n",
       "YhpXyacev9xrRDgGCxK92+A6fMwM+7wFoZk2yf2j+1h7+yo0TFPO9A3n2aIxMCRhkschVMg8EjYx\n",
       "MlFphpIjp6WayYHLSnPYnXrt9tLQoc6pjLN7BQ4dn8AKq2VXX3r+8mIdFubxohxGY4f04zjoF8CQ\n",
       "IistBVWxKLBAMc6q9cWKJFspZsKHVOyDe4ZfcnvPF9wd2Nnm2aFnogKZpVziIA/cCFDtmqnDcTZz\n",
       "Jpker8nrFKAv4MqTOuyHzuWjWbl9MIuvKcXTUbDQ5tXUPrI3IH9GbYSOzHJRE6j6MHq+s3I5iUcm\n",
       "jZXsQeqq2jV1uGvzpNjmgtU0LSEXDsL/27I49zvQbWJACZ0y9yMLKP1dk2zlxA6Haqi8mWzyZVXH\n",
       "0yjNGFz1l2ACsgbowssksOVG7PJxZupwC3kYWW+OuVG7PJvwPAVPhC8YPdZT2pfwtZA93IAHiKa3\n",
       "XPGZ3h5vIZ4nplif7yoWHqOVN8BSYkQDN7r7jtbqcy6/f9BtbhiR1fXXrLtRja1hCgf9h6mWr1HB\n",
       "9h6qcw8vwx3BO+ljFRwfYeplY1RwfYeppEH089h6veDAHtwjwRavFZasgZrOSC0+6lC6DqT0PoFf\n",
       "p5niemWIokeYH9yd2Qm2yMIgGWxdTKiSuMYBS/e0m3M5ThLiz2hg6lnwoH/YepoqiLR7KTYYHR+G\n",
       "O4J31FURaPZSaqBxFo9lJq0ofTz2Hqsg6+/YaqqOD7D1OzT6eew9Zs/mHlGho5Gc5HRe3mWGm9E6\n",
       "MTGZ3l+SLfXmkFA/m9ueciPO/8SZb7h/aBMwY2+XAnfS6Hu3FVO+o+CJScE76QTUItHspNWpj6ee\n",
       "w9TaUItHspNX8/DHcE79oznOYnWvFUcH2HqfMVHB9h6v7ET2NTOTsqWlB9Yf6T/4qt0+C478DZeY\n",
       "TmPP5x6fsGw7xV0tzfIdlWVUZZNH3KvYmJbeB1wWl+QkCGOF40ZRYazU9e6W7tD70kXo8F5BVdrv\n",
       "2HJuOm27ygT79Mu121ZafehIVUNMXbAcIorLZmNFgtRFJisHySAZboiJaENXl/nLctgcMzQ2m3SX\n",
       "oeCHmURjgjNRKYjDSsKyuCiapuNRtWg8EPEJSAZcy1UR6pZrf5tcj2Zmf26oMK6jzKlK1Tp7DpKt\n",
       "Ma3Yb9RDq3YBhjW26B7KiGR8z3vd2uuQXmxhODJwLeovaCXW+9ieWQLO9kiEBt2DJaLuAbLY2c8d\n",
       "PSw0dXBaLEheKHdHJanPSgZEvOr1IOjUqO3IxdugNAqY+vH++5dfh/majxr/MAh3s4CPElho/6cQ\n",
       "DZZ7JWMplI0ADTVvZ3Q0kog4fCjLVb2exSf/op8h8wOE/0qTPghlMoGHTrtysosfyqRSK0n1z2u0\n",
       "56Hxr2aTmwHzqInFjvgkbq7a2z6G3REUXF2XRbbTbP0fpmp5xIrobyb7kadAZGbpYDXMj229FSqX\n",
       "elQmyQC/HsRGSw3U0PofWeKWl4jCV40o3axgyiCsKgcYx99GFm5cZMLZlxAwC7M6xRQ7owsq2gm5\n",
       "y5GFlIdBMozRhZblm5Ubs8m4FZnKbRuzyZh6Byo3Z5MsSTgFvIwsfi5yo3Z5N/kwZXAZmNc9JjQZ\n",
       "bKak6eAtYfCcnpqXonBPpUZM9E5KnXy0XN+JdOos6ShTsVl7FOiSuU89HIsyUMmdwcGvxsst8Ct9\n",
       "7GdiSFho0puAhXlVAKlNwG62DgKgsT5ZdwwdoZZtP0TevjIZXwouvJrm6XzFRBHExjLk4lSaTbX0\n",
       "cXiC5BZcZmjbuZ7RJ+v9TCz26YdSWb57iNMwxYAg0cZoMjershN/7eIQV5VD+bMDkRAiM8TD8+ca\n",
       "+PSgeytJM5WKkIczJbB4S/ggGCmQQR+X19TeXSBcc+sYqZKaieQ+CtYfQgKOJiSpP74uPp9Cq6y1\n",
       "KJw1qjKB+dO/1kgTK8Ld5wZGozNCAPUWCj90dGzp7OMaJbyk2htjSUnUJkDfiiaPzq3+39XGE6t/\n",
       "t/70/1ib6R54wnVv90ew4E6nmPZRzcay+4zun+sTffgLOWaV2bmzz7I9tam0UUMg9eHexypg+zHF\n",
       "Au4arQ7nFS6aKGSJA1j0cfGXcFfthE8o59HILQTNjJEaVQfXpxAEELYk1h6FkBM4q3vB9wmIEZ1Z\n",
       "sAd1CyAe8q9n4V8StbmUZX6GU2y0VgMigOlGuFGQIvTaNFgTKAx6gr0i9HdDQNWFBdC//IFtEd2o\n",
       "uvJOWM93ydUEuXPVtGRU8qFhtYhw6ta3aCs5NM6l1ZtTrRoe+ftPQ+yqODW/5fOGrj/4wVrPtuKR\n",
       "c3HJFbYTWWRV8DOWODzj4ATl00GtoI5fOlsRoCMP4XWjSLRk3WYn8kM5aqRK/DZVlpoHoyzaMfQD\n",
       "uoWILDIDOWPEDp6WSQMfIzrRofDlbQs8qeM60aHkkMXLBarlOabpgbzHTxRKeI4t+iT5+JyR9LRv\n",
       "FhvqJcPxtWBqitiMy6/xYg8DwEERqqlbhxNTdHtGHF5Q/NC1R+9eiG1xCzIqeCGOVhwvARQHXuPq\n",
       "3crBoL7UA8c36rLFo2cuNfE5beYMBE3/q84jr/yI95XhBR8G6S6bBGt5E1jX2VI/ufvU5x6134et\n",
       "qPSrga5+TP+hztcTGZOpOJOKhtKcyIGqbKJsES5lEF+WN5JrrJy4gSeCZicuRhca0rN+y2eTOOCO\n",
       "VG7PJvMDcNyo3Z5M5nnALeRhY+dJNo3Z5MgPiyBujCz9pma1eELK/Yu/hZPEYYHWYM+wiSqkC14s\n",
       "ZY7Kn6DicluyPpx0AAKI8oTRINHcC8+oGKsPVLqNLqOD7D1NG8RaPZSao0ao4PsPU10fDHcE79FO\n",
       "T8MdwTvqtNRwfYepqc1HB9h6nQIi0eyk3cSJ6HI0yf10yU2d1WLy8aVVd0U3Tzdu4MX5oKOAFj1H\n",
       "ilQ4bw2bX+oB52pensoHTLDHXtV6MXwENB6ccmWAhoPTjeU4CGg9OOtiyG7AYIkU4shuwGCNeOVX\n",
       "sBgjBvAQ0Hpx+WshuwGCgjgjyNGE33M4+BO77q+y/c7l+65yba3DEix+audg5x1Hh8iKrMJEBoCv\n",
       "aPv6nP1OdoRA4oen3ov/GVbmxRY3oFYs2HVTiFVizY0em3WjNMiUFhbrRmmWyHEKrFmxiVNutGaZ\n",
       "jSm3WjNNcpldPgGmhx6E5lf6Jb6e6ULM2f7ESj7ZVIzzsv18FxTHjIgBc7oiYu33uK+8HcAOlWyg\n",
       "w8BzR9Pw57ipH42UNn02C2c2YXJCNjb/mZvmH0p5KW7d/uN7fsonWUSY8OaBCrK6fvIQzwNbQSAg\n",
       "cOaQpIVdbQSAMla3Mp89fb+SImbRpFmytERrFuxnLVQMXtwoMFysArZeutoJEA9isBotrutoJDo9\n",
       "VQ0vsQT6f3WjQ9rr2g+fp52M5aa5sfT+9qMEXWwPss7zbOudWftGmWhFSG9IXyMPaYS2W7RnLJB8\n",
       "wob9qgVXW0EkaErKRtrQj5/daNIsW+5EmYit/daNJMw0e3InzKa6VtBJhg/+mQ0tR3W0ElFmS9Ea\n",
       "FccTNo0PqAaU2eWBEzaND2iGLlgtZKyvKs2aR4pcdXxK8t5ryXYn86c0A6MKWGiGtC5oKtqcI65l\n",
       "NpHnn1tmzPPIELG1fAoW0S+JXmGFyEwxjGUSg02fhCY061jpsqGVp7yHuY9a0rcww9IOT6rnsiXo\n",
       "5pyBrZkxos2eztULM5jqLQwPkJytZyJ4LoMnINKuzqNiNxjjZBzsOlG018kG09bq73WjOB1xKAY9\n",
       "QaaNS2wC/DsUTXTeNTwUajf/Es0nYKMkrbnABXOc7iWHsXQVJM2el2Bu8R3+kTHwyyWOK4Od7P4o\n",
       "cIv2Gc44Gj97NMCBN6CiEaID+j3JsL3FbVx9XCdF/4e7ZUpLwQ0PrOhC7dm8W70FC/tWKKrhf//7\n",
       "7/hv5kuk51aDXRSeZuxhl2Q2/8+lLD0JxSIqi883Z7UFZzorzbQOC573bY8nolNuzLdcvVqGYIYI\n",
       "dTDFBfrI70+BKnxx1CwA9+Vo3secWdUCNkIUzHSB0Ra8VL/HtkrDh4SmNlEDwPa6JKEb7NshOI37\n",
       "5Istu5OSqTOfzcR25ne5abcYJoAthaKvx7NRLAPFyZ3cwXty8iZ5yqHl3x2GWXuNRwocZlv3DNf4\n",
       "CCLcT4P//4+8K0P8ZDBFXt5QSTZGmMRSqeRIFbeb/SiA5xYlygIDebtaZ78MtKCt1yn+iZKmA7qg\n",
       "JnbXDs3koWCWz6FyrJ4+FoG5ICJFFpZ0wC3kUWBbVWB6JCTT4+zOXwqqDFjvxXvoWgLq8DpGZvCP\n",
       "cV8vgpx1xSq6Bmpfzh06h6bwVFzXb7GX1nogYpjRUkS9pKJdX1aID5tjhNkHHqIYR50VqxgR2aXf\n",
       "gvfOQxzD7o5lNHpUdDoLv+1aTZHGR33w6K6PS+VeTbaCZmKCzuFuLeTb6aPsiJ78LUKeYxDZl3hA\n",
       "Scb7FirtRagT349J2jEcxe7Ituo2vZ3eh2l9nciMUvO9Eg72L2D6HeiM3vbXFCW8WSBCvgJ26L4f\n",
       "2UFmt8RqES9cX7LwOQztgv6phaAIA60SvCJ2EopWobv3pn8mhCDzHK4rQRqnAnARF3IiWOCJGZds\n",
       "6PqKYyLpVlwtxeu4ZnmaG6sCi4/YePSuW4fhX3bqHl0+Xc1K56JNi7PFPEPEEUmGwfzntbhhEHOJ\n",
       "dRvCrIdo0265iPAje7EAMysLE2riAYPN796mblZjGXx4AoMjGyq3Hl9rgE1eZXwNvWJJARJ+AAAd\n",
       "0QAAASRBmiRsQ3/+p4QRgOMAG2Of5X8ElkHqg/+6ZfCiU1uP7hLSqFdL/WBMRzD2WALC10U5F+r4\n",
       "IL1UsTlF4n0KeUzVSwtf1rKNdnoxVf26MqHJw6ksY9O+JTcLWg8cDhCtrEeaUP9Vk2RsaDOX4hya\n",
       "umZUP2R1xf+W29NDhO7k9UUf/fgtYC71p0NO21w7xH9BBRGp+e+37AxUVnU6MnE/PycuwBOkDWBv\n",
       "CmbnnstxrQUnneVZkD6Q3X7nbT8UpoOMFqmp+E2wH/nCmVS7wGkFE2U2Glt2cMFLS1H7xgc5Zx7W\n",
       "th32EaiSFXZRv/16v+tRu3oLXO2bfuHk9CkM0kOWiLXuLkPa67zqwpu2ZRRfmugJQrpoiozPdbq1\n",
       "1tSY/akp9nKucvnXAAAAZ0GeQniGfwYMTTa3pqt/1PYjDGlrrslCCU16082XHS45Lp4AIfmt8WC2\n",
       "jbRB6tCmoH8lZ5ZZajPpeqf+nS17C5xoEhWmJxcNKcGJnNbn/u4qSzMnXb6Le4rUtmUgUXLjjoZE\n",
       "aNsB428AAAA/AZ5hdEK/Au05uVuMI2t07tEEsep/HTQAgNApvXf8Yv070SXHrH72vD/gH+YV/nIw\n",
       "2+Uwb3gbnhycK7MqxLuAAAAAVQGeY2pCvwG7dysTrWWbxkj0o+trIBxwAmlk0l8P0NmJCJnPQfyH\n",
       "QuAJ5fzmpX3aQwLbhDtJKlYLlxhyq6JxwAObv+8Dpj9+cQCb7sOBMxEnyGYuk4UAAAA9QZplSahB\n",
       "aJlMCG///qeGHwqoXJVyl5akUAr7i7iNhhmeAkqg1WlBIWnDQhKnDBsYG99Y/Vw3yfYDpAo7TQAA\n",
       "ADhBmoZJ4QpSZTAh3/6plgAwFRykB1KuK4qzCStD0JACFEkGBBM/xz2CXN0030gN80o+/drPIRQS\n",
       "zQAAAClBmqdJ4Q6JlMCHf/6plgAxVROb53YiqnbU8b6OdUlumuVACwRvJeuinQAAAEJBmstJ4Q8m\n",
       "UwId//6plgAxg6SnpqxsURQAQ4iZLs+FifCrmaJ5IJzPk5mI+me5TNKEE6rMtyhZOsJ2Y7yI7Pl1\n",
       "tdAAAAAeQZ7pRRE8M/8GDE0ocw0K6h/yPuAANvbltJHsaYawAAAAIgGfCHRCvwBPmEiLpWJwAQop\n",
       "A/yInFjYP4SyuZQHgb0lYNkAAAAOAZ8KakK/AE+a2jt7sWAAAAAhQZsPSahBaJlMCG///qeEAGHo\n",
       "+2JCACL9oaciacRWjMakAAAAFkGfLUURLDP/BgxNKHM77sKUuKYDHoEAAAAOAZ9MdEK/AE+TP2Jn\n",
       "Z3UAAAASAZ9OakK/AE+jfJgmeTacXnVNAAAAIEGbUEmoQWyZTAhv//6nhABieExfRKHOyjNMNOeU\n",
       "N8akAAAAPEGbc0nhClJlMCFf/jhABatOWYUa68MCegATjSvqrgq6qkM/qMOO/49/5AuLojRcwFNV\n",
       "6idKk4JXniobpgAAAB9Bn5JCFf8ATYS+GP6AGyNYCWvKkZfawlQLdk6bgzNhAAAAHgGfsWkQrwBN\n",
       "Tc7OmYALbp3M1y/+m9OBMzcXVoUH0wAAA/Ftb292AAAAbG12aGQAAAAAAAAAAAAAAAAAAAPoAAAD\n",
       "6AABAAABAAAAAAAAAAAAAAAAAQAAAAAAAAAAAAAAAAAAAAEAAAAAAAAAAAAAAAAAAEAAAAAAAAAA\n",
       "AAAAAAAAAAAAAAAAAAAAAAAAAAAAAAACAAADG3RyYWsAAABcdGtoZAAAAAMAAAAAAAAAAAAAAAEA\n",
       "AAAAAAAD6AAAAAAAAAAAAAAAAAAAAAAAAQAAAAAAAAAAAAAAAAAAAAEAAAAAAAAAAAAAAAAAAEAA\n",
       "AAABIAAAASAAAAAAACRlZHRzAAAAHGVsc3QAAAAAAAAAAQAAA+gAAAQAAAEAAAAAApNtZGlhAAAA\n",
       "IG1kaGQAAAAAAAAAAAAAAAAAACgAAAAoAFXEAAAAAAAtaGRscgAAAAAAAAAAdmlkZQAAAAAAAAAA\n",
       "AAAAAFZpZGVvSGFuZGxlcgAAAAI+bWluZgAAABR2bWhkAAAAAQAAAAAAAAAAAAAAJGRpbmYAAAAc\n",
       "ZHJlZgAAAAAAAAABAAAADHVybCAAAAABAAAB/nN0YmwAAACWc3RzZAAAAAAAAAABAAAAhmF2YzEA\n",
       "AAAAAAAAAQAAAAAAAAAAAAAAAAAAAAABIAEgAEgAAABIAAAAAAAAAAEAAAAAAAAAAAAAAAAAAAAA\n",
       "AAAAAAAAAAAAAAAAAAAAAAAY//8AAAAwYXZjQwH0AA3/4QAXZ/QADZGbKCQS0IAAAAMAgAAAFAeK\n",
       "FMsBAAZo6+PESEQAAAAYc3R0cwAAAAAAAAABAAAAFAAAAgAAAAAUc3RzcwAAAAAAAAABAAAAAQAA\n",
       "AKBjdHRzAAAAAAAAABIAAAABAAAEAAAAAAEAAAoAAAAAAQAABAAAAAABAAAAAAAAAAEAAAIAAAAA\n",
       "AwAABAAAAAABAAAKAAAAAAEAAAQAAAAAAQAAAAAAAAABAAACAAAAAAEAAAoAAAAAAQAABAAAAAAB\n",
       "AAAAAAAAAAEAAAIAAAAAAQAABAAAAAABAAAIAAAAAAEAAAQAAAAAAQAAAAAAAAAcc3RzYwAAAAAA\n",
       "AAABAAAAAQAAABQAAAABAAAAZHN0c3oAAAAAAAAAAAAAABQAABK+AAABKAAAAGsAAABDAAAAWQAA\n",
       "AEEAAAA8AAAALQAAAEYAAAAiAAAAJgAAABIAAAAlAAAAGgAAABIAAAAWAAAAJAAAAEAAAAAjAAAA\n",
       "IgAAABRzdGNvAAAAAAAAAAEAAAAwAAAAYnVkdGEAAABabWV0YQAAAAAAAAAhaGRscgAAAAAAAAAA\n",
       "bWRpcmFwcGwAAAAAAAAAAAAAAAAtaWxzdAAAACWpdG9vAAAAHWRhdGEAAAABAAAAAExhdmY1Ni40\n",
       "MC4xMDE=\n",
       "\" type=\"video/mp4\">\n",
       " Your browser does not support the video tag.\n",
       "</video>"
      ],
      "text/plain": [
       "<matplotlib.animation.FuncAnimation at 0x10c9c4950>"
      ]
     },
     "execution_count": 8,
     "metadata": {},
     "output_type": "execute_result"
    }
   ],
   "source": [
    "fig, ax = plt.subplots(figsize=(4,4)); ax.axis('equal'); ax.grid('on');\n",
    "\n",
    "line, = ax.plot([], [], 'b', lw=2);\n",
    "\n",
    "# initialization -- called once\n",
    "def init():\n",
    "    gndh,gndv = [-10.,10.,10.,-10.],[0.,0.,-5.,-.5]\n",
    "    ax.fill(gndh,gndv,'gray')\n",
    "    line.set_data([], [])\n",
    "    ax.set_xlim(( -1., 1.))\n",
    "    ax.set_ylim(( -.15, 2.))\n",
    "    return (line,)\n",
    "\n",
    "# animation -- called iteratively\n",
    "def animate(t):\n",
    "    j = (t_ >= t).nonzero()[0][0]\n",
    "    h,v,th = x_[j,:3]\n",
    "    w = .25\n",
    "    x = np.array([-w/2.,w/2.,np.nan,0.,0.])\n",
    "    y = np.array([0.,0.,np.nan,0.,+w/3.])\n",
    "    z = (x + 1.j*y)*np.exp(1.j*th) + (h + 1.j*v)\n",
    "    line.set_data(z.real, z.imag)\n",
    "    return (line,)\n",
    "\n",
    "plt.close(fig)\n",
    "\n",
    "# call the animator\n",
    "animation.FuncAnimation(fig, animate, init_func=init, repeat=True,\n",
    "                        frames=np.arange(0.,t_[-1],.1), interval=20, blit=True)"
   ]
  },
  {
   "cell_type": "code",
   "execution_count": null,
   "metadata": {
    "collapsed": true
   },
   "outputs": [],
   "source": []
  }
 ],
 "metadata": {
  "kernelspec": {
   "display_name": "Python 2",
   "language": "python",
   "name": "python2"
  },
  "language_info": {
   "codemirror_mode": {
    "name": "ipython",
    "version": 2
   },
   "file_extension": ".py",
   "mimetype": "text/x-python",
   "name": "python",
   "nbconvert_exporter": "python",
   "pygments_lexer": "ipython2",
   "version": "2.7.10"
  }
 },
 "nbformat": 4,
 "nbformat_minor": 0
}
