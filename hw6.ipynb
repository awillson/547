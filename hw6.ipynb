{
 "cells": [
  {
   "cell_type": "markdown",
   "metadata": {},
   "source": [
    "# HW5 due 11:30a Mon Nov 21"
   ]
  },
  {
   "cell_type": "markdown",
   "metadata": {},
   "source": [
    "# Linear DE flow\n",
    "\n",
    "a. Show that the flow of $x^+ = A x$, $x\\in\\mathbb{R}^d$, is given by\n",
    "$$\\forall t\\in\\mathbb{N},\\ \\xi\\in\\mathbb{R}^d : \\phi(t,\\xi) = A^t \\xi.$$\n",
    "\n",
    "b. Show that the flow of $\\dot{x} = A x$, $x\\in\\mathbb{R}^d$, is given by\n",
    "$$\\forall t\\in\\mathbb{N},\\ \\xi\\in\\mathbb{R}^d : \\phi(t,\\xi) = e^{A t} \\xi.$$"
   ]
  },
  {
   "cell_type": "markdown",
   "metadata": {},
   "source": [
    "# Asteroids flow\n",
    "\n",
    "a. Simulate an \"interesting\" nonequilibrium trajectory for the asteroids ship control system for an \"interesting\" amount of time; you may wish to apply a nonzero input.  Plot an \"interesting\" state (or function of state) versus time.\n",
    "\n",
    "Let $x(0)\\in\\mathbb{R}^d$ denote the initial condition from (a.).\n",
    "\n",
    "b. Choose an \"interesting\" direction $v\\in\\mathbb{R}^d$ along which to vary the initial condition.  Using the same input and time horizon from (a.), simulate the asteroids ship control system from an initial condition of the form $x(0) + \\alpha v$, where $\\alpha\\in\\mathbb{R}$.  Repeat for several additional values of $\\alpha$ (don't change $v$ or $x(0)$).  Plot the \"interesting\" state (or function of state) from (a.) versus time for each of these trajectories (put all the simulation traces on the same plot).\n",
    "\n",
    "c. Consider the derivative of the trajectory outcome at the final time with respect to the parameter $\\alpha$,\n",
    "$$ D_\\alpha \\phi(t,x(0) + \\alpha v,u).$$\n",
    "What is the shape of this Jacobian matrix?  Provide a 1-sentence plain-language explanation for what this matrix means in terms of the behavior of the asteroids control system.\n",
    "\n",
    "d. Numerically compute the derivative of the trajectory outcome at the final time with respect to the parameter $\\alpha$,\n",
    "$$ D_\\alpha \\phi(t,x(0) + \\alpha v,u),$$\n",
    "using finite differences.  Provide a plot that demonstrates you used an appropriate displacement parameter for the finite differences calculation.  With reference to your 1-sentence explanation from (c.), provide an interpretation for the numbers you computed in the context of the asteroids control system."
   ]
  },
  {
   "cell_type": "markdown",
   "metadata": {},
   "source": [
    "# Project flow\n",
    "\n",
    "a. Simulate an \"interesting\" nonequilibrium trajectory for your project control system; you may wish to apply a nonzero input.  Plot an \"interesting\" state (or function of state) versus time.\n",
    "\n",
    "Let $x(0)\\in\\mathbb{R}^d$ denote the initial condition from (a.).\n",
    "\n",
    "b. Choose an \"interesting\" direction $v\\in\\mathbb{R}^d$ along which to vary the initial condition.  Using the same input from (a.), simulate your project control system from an initial condition of the form $x(0) + \\alpha v$, where $\\alpha\\in\\mathbb{R}$.  Repeat for several additional values of $\\alpha$ (don't change $v$ or $x(0)$).  Plot the \"interesting\" state (or function of state) from (a.) versus time for each of these trajectories (put all the simulation traces on the same plot).\n",
    "\n",
    "c. Consider the derivative of the trajectory outcome at the final time with respect to the parameter $\\alpha$,\n",
    "$$ D_\\alpha \\phi(t,x(0) + \\alpha v,u).$$\n",
    "What is the shape of this Jacobian matrix?  Provide a 1-sentence plain-language explanation for what this matrix means in terms of the behavior of your project control system.\n",
    "\n",
    "d. Numerically compute the derivative of the trajectory outcome at the final time with respect to the parameter $\\alpha$,\n",
    "$$ D_\\alpha \\phi(t,x(0) + \\alpha v,u),$$\n",
    "using finite differences.  Provide a plot that demonstrates you used an appropriate displacement parameter for the finite differences calculation.  With reference to your 1-sentence explanation from (c.), provide an interpretation for the numbers you computed in the context of your project control system."
   ]
  }
 ],
 "metadata": {
  "kernelspec": {
   "display_name": "Python 2",
   "language": "python",
   "name": "python2"
  },
  "language_info": {
   "codemirror_mode": {
    "name": "ipython",
    "version": 2
   },
   "file_extension": ".py",
   "mimetype": "text/x-python",
   "name": "python",
   "nbconvert_exporter": "python",
   "pygments_lexer": "ipython2",
   "version": "2.7.10"
  }
 },
 "nbformat": 4,
 "nbformat_minor": 0
}
