{
 "cells": [
  {
   "cell_type": "markdown",
   "metadata": {},
   "source": [
    "# HW01 Solution"
   ]
  },
  {
   "cell_type": "markdown",
   "metadata": {},
   "source": [
    "# 1. Mathematical notation and reasoning\n",
    "\n",
    "**Given a set $X$, let $P(X) = \\{S : S\\subset X\\}$ denote the *power set* (i.e. \"the set of all subsets\") of $X$.**\n",
    "\n",
    "\n",
    "***Note:  these solutions are verbose; your solutions (and our future solutions) may be more terse.***\n",
    "\n",
    "**a. If $|X| < \\infty$, compute $|P(X)|$ (i.e. the number of elements in the power set of $X$).**\n",
    "\n",
    "Given a subset $S\\subset X$ (so $S\\in P(X)$), define $f_S : X\\rightarrow \\{0,1\\}$ by the rule $$\\forall x\\in X : (x\\in S \\Rightarrow f(x) = 1) \\wedge (x\\not\\in S \\Rightarrow f(x) = 0),$$ i.e. $f(x)$ equals $1$ if and only if $x\\in S$.  This injection assigns a unique binary-valued\n",
    "function to every $S\\in P(X)$.\n",
    "\n",
    "Given a binary function $f : X\\rightarrow \\{0,1\\}$, define $S_f \\subset X$ by the rule\n",
    "$$S_f = \\{ x\\in X : f(x) = 1 \\},$$\n",
    "or equivalently $S_f = f^{-1}(1)$.  This injection assigns a unique subset to every binary function $f : X\\rightarrow \\{0,1\\}$.\n",
    "\n",
    "Let $B(X) = \\{f : X\\rightarrow \\{0,1\\}\\}$ denote the set of binary-valued functions over $X$.\n",
    "\n",
    "Using the cardinality definition in class, we conclude $|P(X)| = |B(X)|$.\n",
    "\n",
    "We have reduced the problem of computing $|P(X)|$ to the problem of determining how many binary-valued functions there are over a set $X$ for which $|X| < \\infty$?\n",
    "\n",
    "Since each element in $X$ may be assigned either $0$ or $1$ independently from all other elements, we conclude $|P(X)| = |B(X)| = 2^{|X|}$."
   ]
  },
  {
   "cell_type": "markdown",
   "metadata": {},
   "source": [
    "**Now let $A$, $B$ be arbitrary sets.**"
   ]
  },
  {
   "cell_type": "markdown",
   "metadata": {},
   "source": [
    "**b. Prove that there exists an injection $f:A\\rightarrow B$ if and only if there exists a surjection $g:B\\rightarrow A$ (therefore the two definitions we proposed for $|A| \\le |B|$ are equivalent).**\n",
    "\n",
    "We must show that for arbitrary sets $A,B$ there exists an injection from $A$ to $B$ if and only if there exists a surjection from $B$ to $A$. We proceed directly and must show two things:\n",
    "\n",
    "1. If there exists an injection from $A$ to $B$, then there exists a surjection from $B$ to $A$.\n",
    "\n",
    "2. If there exists a surjection from $B$ to $A$, then there exists an injection from $A$ to $B$. \n",
    "\n",
    "We begin with the former and let $f:A\\rightarrow B$ be the injection. Then by definition, for any $f(a_1), f(a_2) \\in B$ where $a_1, a_2 \\in A$, $f(a_1) = f(a_2) \\implies a_1 = a_2$. We propose that a surjection exists from $B$ to $A$, $g:B\\rightarrow A$. We construct $g$ as follows:\n",
    "\n",
    "Select arbitrarily an element in domain $B$, call it $b$. Two cases arise:\n",
    "\n",
    "$~~~~~b$ is in the image of $f$.\n",
    "\n",
    "$~~~~~b$ is not in the image of $f$.\n",
    "\n",
    "Start with the former. If $b$ is in the image of $f$, then $b = f(\\hat{a})$ for exactly one $\\hat{a} \\in A$ since $f$ was injective. Let $g$ map $b$ precisely to its preimage in $f$, i.e. $g(b) = \\hat{a}$. \n",
    "\n",
    "Now if $b$ is not in the image of $f$, let $g(b)$ map to some arbitrary element in $A$.\n",
    "\n",
    "We now have that $g$ is a function (it maps any element of $B$ to precisely one element in $A$ since $f$ was injective). To show $g:B\\rightarrow A$ is a surjection, select arbitrarily $a \\in A$. Then there exists an element in $B$, namely $f(a) \\in B$, such that $g(f(a)) = g\\circ f (a) = a$. We have shown by construction that given injection $f:A\\rightarrow B$ that there exists surjection $g:B\\rightarrow A$. We have thus shown one direction.\n",
    "\n",
    "Now consider the other direction of the coimplication. Recall that we need to show that for arbitrary sets $A,B$, if there exists a surjection from $B$ to $A$, then there exists an injection from $A$ to $B$. To that end, let $g:B\\rightarrow A$ be a surjection from $B$ to $A$. Then $\\forall a\\in A \\exists b\\in B \\ni g(b) = a$. We propose that an injection exists from $A$ to $B$, $f:A\\rightarrow B$. We construct $f$ as follows: \n",
    "\n",
    "Select arbitrarily $a \\in A$. Then the preimage of $a$ under $g$ is nonempty, since $g$ was a surjection. Now for every $a\\in A$, let us choose precisely one element in its preimage under $g$ (we can do so by the Axiom of Choice). Then let us define $f$ as mapping $a$ to this chosen element. We now have constructed a mapping $f$ which takes any element from $A$ and maps it to exactly one element in $B$. Moreover, we know that this mapping is injective since $g$ was a function. We have shown by construction that given surjection $g:B\\rightarrow A$ that there exists injection $f:A\\rightarrow B$.\n",
    "\n",
    "Since we have shown both directions, we have proven the coimplication as desired.\n"
   ]
  },
  {
   "cell_type": "markdown",
   "metadata": {},
   "source": [
    "# 2. Asteroids control system\n",
    "\n",
    "Consider the classic arcade game ''Asteroids'' (if you're unfamiliar with this game, watch the video in Canvas/Files/watch/asteroids.mp4 or try your hand at the game at http://www.freeasteroids.org/)."
   ]
  },
  {
   "cell_type": "markdown",
   "metadata": {},
   "source": [
    "**a. What is the system state?  (include the spaceship, asteroids, and missiles)**\n",
    "\n",
    "First we start with making some physical assumptions about our system. Let's assume that asteroids and missiles move with constant speed. Let's assume that pressing UP button on keyboard exerts a constant force $u_1$ on the spaceship. Let's also assume that pressing LEFT or RIGHT button on keyboard make the spaceship rotate with constant angular velocity $u_2$. Assuming the above, the information we need to uniquely determine the system's output will be horizontal $x_1$, $x_1^a$, $x_1^m$ and vertical $x_2$, $x_2^a$, $x_2^m$ coordinates of the spaceship, asteroids and missiles correspondingly, velocitites $v_1=\\dot{x_1}$ and $v_2=\\dot{x_2}$ of the spaceship, and the orientation $\\theta$ of the spaceship."
   ]
  },
  {
   "cell_type": "markdown",
   "metadata": {},
   "source": [
    "**b. What are the inputs to the system? (from the player's perspective)**\n",
    "\n",
    "Based on the assumptions above the inputs are the force $u_1$ exerted on the spaceship, and the angular velocity $u_2$."
   ]
  },
  {
   "cell_type": "markdown",
   "metadata": {},
   "source": [
    "**c. What are the outputs from the system? (from the player's perspective)**\n",
    "\n",
    "The outputs are the $x$ and $y$ coordinates of the spaceship, and the orientation $\\theta$ of the spaceship."
   ]
  },
  {
   "cell_type": "markdown",
   "metadata": {},
   "source": [
    "**d. Write a DE control system model for the spaceship's dynamics in the form $\\dot{x} = f(x,u),\\ y = h(x)$. (specify the domain and range of the functions $f,h$)**\n",
    "\n",
    "$\n",
    "    \\begin{array}{l}\n",
    "        \\dot{x_1} = v_1 \\\\\n",
    "        \\dot{x_2} = v_2 \\\\\n",
    "        \\dot{v_1} = u_1 \\cdot \\cos\\theta - k \\cdot v_1 \\\\\n",
    "        \\dot{v_2} = u_1 \\cdot \\sin\\theta - k \\cdot v_2 \\\\\n",
    "        \\dot{\\theta} = u_2 \\\\\n",
    "        y_1 = x_1 \\\\\n",
    "        y_2 = x_2 \\\\\n",
    "        y_3 = \\theta\n",
    "    \\end{array}\n",
    "$\n",
    "\n",
    "Since $x = (x_1,x_2,v_1,v_2,\\theta)' \\in \\mathbb{R^5} $, $u = (u_1,u_2)'  \\in \\mathbb{R^2}$, $y=(y_1,y_2,y_3)'  \\in \\mathbb{R^3}$, then\n",
    "\n",
    "$f: \\mathbb{R^5} \\times \\mathbb{R^2} \\rightarrow \\mathbb{R^5}$, and its domain and range are $\\mathbb{R^5} \\times \\mathbb{R^2}$ and $\\mathbb{R^5}$ correspondingly.\n",
    "\n",
    "$h: \\mathbb{R^5} \\times \\mathbb{R^2} \\rightarrow \\mathbb{R^3}$, and its domain and range are $\\mathbb{R^5} \\times \\mathbb{R^2}$ and $\\mathbb{R^3}$ correspondingly.\n",
    "\n",
    "$\\textbf{Note}$. In the above ODE control system, the$kv$ terms account for the drag force."
   ]
  },
  {
   "cell_type": "markdown",
   "metadata": {},
   "source": [
    "**e. Is the control system linear or nonlinear?**\n",
    "\n",
    "The system is nonlinear because of the $\\sin\\theta$ and $\\cos\\theta$ terms in $f(x,u)$.\n",
    "\n",
    "Also, since $\\theta$ is an angular variable it naturally resides in a non-vector space ($S^1$, the unit circle)."
   ]
  },
  {
   "cell_type": "markdown",
   "metadata": {},
   "source": [
    "**f. What disturbances could affect the system's dynamics; what elements of $f$ and/or $h$ would the disturbance affect? ($\\ge 2$ disturbances; imagine this is a model of a real spacecraft)**\n",
    "\n",
    "Gusts of wind on earth, gravity in open space, broken rocket wings could be considered disturbances. These would primarily affect the state variable $x$ in $f$ and $h$."
   ]
  }
 ],
 "metadata": {
  "kernelspec": {
   "display_name": "Python 2",
   "language": "python",
   "name": "python2"
  },
  "language_info": {
   "codemirror_mode": {
    "name": "ipython",
    "version": 2
   },
   "file_extension": ".py",
   "mimetype": "text/x-python",
   "name": "python",
   "nbconvert_exporter": "python",
   "pygments_lexer": "ipython2",
   "version": "2.7.10"
  }
 },
 "nbformat": 4,
 "nbformat_minor": 0
}
