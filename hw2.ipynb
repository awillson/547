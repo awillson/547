{
 "cells": [
  {
   "cell_type": "markdown",
   "metadata": {},
   "source": [
    "# HW2 due 11:30a Mon Oct 10"
   ]
  },
  {
   "cell_type": "markdown",
   "metadata": {},
   "source": [
    "# 1. Abstract vector spaces\n",
    "\n",
    "Let $\\rho(x) = \\left\\{\\sum_{\\ell=1}^n c_\\ell x^\\ell \\mid n\\in\\mathbb{N},\\ c_1,\\dots,c_n\\in\\mathbb{R}\\right\\}$ denote the set of polynomials in the variable $x$.\n",
    "\n",
    "a. Provide an injection from $\\rho(x)$ into $\\mathbb{R}^{\\mathbb{N}}$.\n",
    "\n",
    "b. Endow $\\rho(x)$ and $\\mathbb{R}^{\\mathbb{N}}$ with abstract vector space structures.  (You need to define the operations of vector addition and scalar multiplication for the two sets, and show that the two sets are closed under their respective operations.)\n",
    "\n",
    "c. Is your injection from (a.) compatible with your vector space structure from (b.)?  (In other words, is the result of applying the injection to a scaled sum in $\\rho(x)$ the same as the corresponding scaled sum in $\\mathbb{R}^{\\mathbb{N}}$?)"
   ]
  },
  {
   "cell_type": "markdown",
   "metadata": {},
   "source": [
    "# 2. Project control system\n",
    "\n",
    "Select a control system for your Project; refer to Canvas/Pages/Project for ideas and requirements.\n",
    "\n",
    "a. What is the system state?  Indicate any parameters (i.e. \"states\" that don't change in time).  ($\\ge 3$ dimensions)\n",
    "\n",
    "b. What are the inputs to the system?  Explain the inputs in physical terms, i.e. what physical device or mechanism actuates the input. ($\\ge 2$ inputs; create one if needed)\n",
    "\n",
    "c. What are the outputs from the system?  Explain the outputs in physical terms, i.e. what physical device or mechanism measures the output.  ($\\ge 2$ outputs; create one if needed)\n",
    "\n",
    "d. Write an ODE control system model for your system's dynamics in the form $\\dot{x} = f(x,u),\\ y = h(x,u)$. Be sure to specify the domain and codomain of $f,h$.\n",
    "\n",
    "e. Is the control system linear or nonlinear?  Show algebraically or graphically the source of nonlinarity. (must be nonlinear)\n",
    "\n",
    "f. What disturbances could affect the system's dynamics?  Specify what elements of $f$ and/or $h$ the disturbance would affect. ($\\ge 1$ disturbance that affects $f$, $\\ge 1$ disturbance that affects $h$)\n",
    "\n",
    "g. Why is your Project system synergistic with your education, research, and/or professional interests?  \n",
    "\n",
    "h. Add your Project system title and a link to $\\ge 1$ relevant paper / preprint / technical report in Canvas/Collaboration/Projects; upload the paper .pdf with your hw2 Assigment on Canvas."
   ]
  }
 ],
 "metadata": {
  "kernelspec": {
   "display_name": "Python 2",
   "language": "python",
   "name": "python2"
  },
  "language_info": {
   "codemirror_mode": {
    "name": "ipython",
    "version": 2
   },
   "file_extension": ".py",
   "mimetype": "text/x-python",
   "name": "python",
   "nbconvert_exporter": "python",
   "pygments_lexer": "ipython2",
   "version": "2.7.12"
  }
 },
 "nbformat": 4,
 "nbformat_minor": 0
}
