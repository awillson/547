{
 "cells": [
  {
   "cell_type": "markdown",
   "metadata": {},
   "source": [
    "# HW4 due 11:30a Mon Oct 31"
   ]
  },
  {
   "cell_type": "markdown",
   "metadata": {},
   "source": [
    "# 1. Bases and matrix representations\n",
    "\n",
    "Let $L:V\\rightarrow W$ be a linear function where $\\dim V = n < \\infty$ and $\\dim W = m < \\infty$, and let $r = \\operatorname{rank} L$.\n",
    "\n",
    "a. Prove that there are bases $\\{v_j\\}_{j=1}^n \\subset V$ and $\\{w_i\\}_{i=1}^m \\subset W$ for $V$ and $W$, respectively, with respect to which the matrix representation of $L$ is:\n",
    "$$\\left[\\begin{array}{cc} I_{r\\times r} & 0_{r\\times (n-r)} \\\\ 0_{(m-r) \\times r} & 0_{(m-r)\\times (n-r)} \\end{array}\\right]$$\n",
    "\n",
    "b. Prove that (a.) is not true if $V = W$ (i.e. you are forced to use the same basis for the domain and range of $L$ when constructing its matrix representation)."
   ]
  },
  {
   "cell_type": "markdown",
   "metadata": {},
   "source": [
    "# 2. Eigenvalues, eigenvectors, eigenbases\n",
    "\n",
    "Let $A\\in\\mathbb{R}^{n\\times n}$ be a given matrix.\n",
    "\n",
    "Suppose that, for each $\\ell\\in\\{1,\\dots,k\\}$, there exists $\\lambda_\\ell\\in\\mathbb{C}$ and $v_\\ell\\in\\mathbb{R}^n$ such that $v_\\ell \\ne 0$ and $A v_\\ell = \\lambda_\\ell$ (i.e. $\\lambda_\\ell$ is an eigenvalue for $A$ with eigenvector $v_\\ell$).\n",
    "\n",
    "a. If the eigenvalues $\\{\\lambda_\\ell\\}_{\\ell=1}^k$ are distinct (i.e. $\\lambda_i = \\lambda_j \\iff i = j$), show that the eigenvectors $\\{v_\\ell\\}_{\\ell=1}^k$ are linearly independent.  (*Hint:  use induction.*)\n",
    "\n",
    "Now let $L:U\\rightarrow U$ be linear and $\\dim U = n$.\n",
    "\n",
    "Suppose that $\\lambda\\in\\mathbb{C}$ and $W = \\{w_\\ell\\}_{\\ell=1}^n$ is a basis for $U$ such that $L w_1 = \\lambda w_1$ and $L w_k = \\lambda w_k + w_{k-1}$ for all $k\\in\\{2,\\dots,n\\}$.\n",
    "\n",
    "b. Obtain the matrix representation of $L$ with respect to the basis $W$."
   ]
  },
  {
   "cell_type": "markdown",
   "metadata": {},
   "source": [
    "# 3. Spectral mapping theorem\n",
    "\n",
    "Let $\\operatorname{spec} A = \\{\\lambda_1,\\dots,\\lambda_n\\}$ denote the spectrum of $A\\in\\mathbb{C}^{n\\times n}$ (i.e. the set of eigenvalues of $A$).\n",
    "\n",
    "**Theorem**  If $f:\\mathbb{C}\\rightarrow\\mathbb{C}$ is analytic, then $\\operatorname{spec} f(A) = \\{f(\\lambda_1),\\dots,f(\\lambda_n)\\}$.\n",
    "\n",
    "a.  Prove or provide a counterexample: if $\\lambda_1 \\ne \\lambda_2$, then $f(\\lambda_1) \\ne f(\\lambda_2)$.\n",
    "\n",
    "b. Prove or provide a counterexample:  if $A$ is invertible, then $f(A)$ is invertible."
   ]
  }
 ],
 "metadata": {
  "kernelspec": {
   "display_name": "Python 2",
   "language": "python",
   "name": "python2"
  },
  "language_info": {
   "codemirror_mode": {
    "name": "ipython",
    "version": 2
   },
   "file_extension": ".py",
   "mimetype": "text/x-python",
   "name": "python",
   "nbconvert_exporter": "python",
   "pygments_lexer": "ipython2",
   "version": "2.7.10"
  }
 },
 "nbformat": 4,
 "nbformat_minor": 0
}
